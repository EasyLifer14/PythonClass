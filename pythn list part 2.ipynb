{
 "cells": [
  {
   "cell_type": "code",
   "execution_count": 6,
   "id": "0569538d",
   "metadata": {},
   "outputs": [
    {
     "name": "stdout",
     "output_type": "stream",
     "text": [
      "[[1, 2, 3], [4.5, 6], [7, 8, 9]]\n"
     ]
    }
   ],
   "source": [
    "#list in side ways\n",
    "a = [[1,2,3],\n",
    "    [4.5,6],\n",
    "    [7,8,9]]\n",
    "print(a)\n",
    "\n"
   ]
  },
  {
   "cell_type": "code",
   "execution_count": 7,
   "id": "eecf7dfe",
   "metadata": {},
   "outputs": [
    {
     "name": "stdout",
     "output_type": "stream",
     "text": [
      "<class 'list'>\n"
     ]
    }
   ],
   "source": [
    "print(type(a))"
   ]
  },
  {
   "cell_type": "code",
   "execution_count": 10,
   "id": "480af7e3",
   "metadata": {},
   "outputs": [
    {
     "data": {
      "text/plain": [
       "[7, 8, 9]"
      ]
     },
     "execution_count": 10,
     "metadata": {},
     "output_type": "execute_result"
    }
   ],
   "source": [
    "a[2]"
   ]
  },
  {
   "cell_type": "code",
   "execution_count": 11,
   "id": "7115e3e8",
   "metadata": {},
   "outputs": [],
   "source": [
    "a = [[1, 2, 3], [4.5, 6], [7, 8, 9]] "
   ]
  },
  {
   "cell_type": "code",
   "execution_count": 12,
   "id": "aa87ae8e",
   "metadata": {},
   "outputs": [
    {
     "name": "stdout",
     "output_type": "stream",
     "text": [
      "[1, 2, 3]\n"
     ]
    }
   ],
   "source": [
    "print(a[0])"
   ]
  },
  {
   "cell_type": "code",
   "execution_count": 13,
   "id": "9c337849",
   "metadata": {},
   "outputs": [
    {
     "name": "stdout",
     "output_type": "stream",
     "text": [
      "3\n"
     ]
    }
   ],
   "source": [
    "print(a[0][2])"
   ]
  },
  {
   "cell_type": "code",
   "execution_count": 14,
   "id": "5ddf2071",
   "metadata": {},
   "outputs": [],
   "source": [
    "a = [[\"ram\", 34, \"KTM\"],\n",
    "    [\"sita\", 23, \"BKT\"]]"
   ]
  },
  {
   "cell_type": "code",
   "execution_count": 15,
   "id": "376d79a9",
   "metadata": {},
   "outputs": [
    {
     "data": {
      "text/plain": [
       "[['ram', 34, 'KTM'], ['sita', 23, 'BKT']]"
      ]
     },
     "execution_count": 15,
     "metadata": {},
     "output_type": "execute_result"
    }
   ],
   "source": [
    "a"
   ]
  },
  {
   "cell_type": "code",
   "execution_count": 18,
   "id": "52f73de6",
   "metadata": {},
   "outputs": [
    {
     "name": "stdout",
     "output_type": "stream",
     "text": [
      "Enter n= 2\n",
      "Enter name = ram\n",
      "Enter age = 34\n",
      "Enter add = ktm\n",
      "[['ram', '34', 'ktm']]\n",
      "Enter name = sita\n",
      "Enter age = 23\n",
      "Enter add = bkt\n",
      "[['ram', '34', 'ktm'], ['sita', '23', 'bkt']]\n"
     ]
    }
   ],
   "source": [
    "a = []\n",
    "n = int(input(\"Enter n= \"))\n",
    "for i in range(n):\n",
    "    name = input(\"Enter name = \")\n",
    "    age = input(\"Enter age = \")\n",
    "    add = input(\"Enter add = \")\n",
    "    i = [name, age , add]\n",
    "    a.append(i)\n",
    "    \n",
    "    print(a)   "
   ]
  },
  {
   "cell_type": "code",
   "execution_count": 20,
   "id": "4418ce54",
   "metadata": {},
   "outputs": [
    {
     "data": {
      "text/plain": [
       "['sita', '23', 'bkt']"
      ]
     },
     "execution_count": 20,
     "metadata": {},
     "output_type": "execute_result"
    }
   ],
   "source": [
    "a = [['ram', '34', 'ktm'], ['sita', '23', 'bkt']]\n",
    "a.pop(1)"
   ]
  },
  {
   "cell_type": "code",
   "execution_count": 23,
   "id": "0472cccd",
   "metadata": {},
   "outputs": [
    {
     "ename": "SyntaxError",
     "evalue": "cannot delete function call (3917121335.py, line 2)",
     "output_type": "error",
     "traceback": [
      "\u001b[1;36m  Input \u001b[1;32mIn [23]\u001b[1;36m\u001b[0m\n\u001b[1;33m    del a(0)\u001b[0m\n\u001b[1;37m        ^\u001b[0m\n\u001b[1;31mSyntaxError\u001b[0m\u001b[1;31m:\u001b[0m cannot delete function call\n"
     ]
    }
   ],
   "source": [
    "a = [['ram', '34', 'ktm'], ['sita', '23', 'bkt']]\n",
    "del a(0)"
   ]
  },
  {
   "cell_type": "code",
   "execution_count": 31,
   "id": "c85f9ca8",
   "metadata": {},
   "outputs": [],
   "source": [
    "a = [['ram', '34', 'ktm'], ['sita', '23', 'bkt'],['hari', 22,'ktm']]"
   ]
  },
  {
   "cell_type": "code",
   "execution_count": 33,
   "id": "eb5570d3",
   "metadata": {},
   "outputs": [
    {
     "name": "stdout",
     "output_type": "stream",
     "text": [
      "['ram', '34', 'ktm']\n",
      "['sita', '23', 'bkt']\n",
      "['hari', 22, 'ktm']\n"
     ]
    }
   ],
   "source": [
    "a = [['ram', '34', 'ktm'], ['sita', '23', 'bkt'],['hari', 22,'ktm']]\n",
    "for i in a:\n",
    "                                                  print(i)"
   ]
  },
  {
   "cell_type": "code",
   "execution_count": 34,
   "id": "6c82199a",
   "metadata": {},
   "outputs": [
    {
     "name": "stdout",
     "output_type": "stream",
     "text": [
      "enter name = ram\n",
      "['ram', '34', 'ktm']\n"
     ]
    }
   ],
   "source": [
    "a = [['ram', '34', 'ktm'], ['sita', '23', 'bkt'],['hari', 22,'ktm']]\n",
    "search = input(\"enter name = \")\n",
    "\n",
    "for i in a:\n",
    "    if search in i:\n",
    "        print(i)"
   ]
  },
  {
   "cell_type": "code",
   "execution_count": 3,
   "id": "2393efdf",
   "metadata": {},
   "outputs": [
    {
     "name": "stdout",
     "output_type": "stream",
     "text": [
      "enter name = ram\n",
      "['ram', '34', 'ktm']\n",
      "['sita', '23', 'bkt']\n",
      "['ram', 22, 'ktm']\n",
      "There are 3 ram\n"
     ]
    }
   ],
   "source": [
    "a = [['ram', '34', 'ktm'],['sita', '23', 'bkt'],['ram', 22,'ktm']]\n",
    "search = input(\"enter name = \")\n",
    "c = 0\n",
    "for i in a:\n",
    "    c = c+1\n",
    "    print(i)\n",
    "      \n",
    "print(f\"There are {c}\", search)"
   ]
  },
  {
   "cell_type": "code",
   "execution_count": null,
   "id": "7da3a98d",
   "metadata": {},
   "outputs": [],
   "source": [
    "#WAP to create a list inside with row and column\n",
    "r = ?\n",
    "c = ?\n",
    "[[1,2,3],\n",
    "    [4,5,6],\n",
    "    [7,8,9]]"
   ]
  },
  {
   "cell_type": "code",
   "execution_count": 2,
   "id": "1c036aa3",
   "metadata": {
    "scrolled": true
   },
   "outputs": [
    {
     "name": "stdout",
     "output_type": "stream",
     "text": [
      "enter r = 2\n",
      "enter c = 2\n",
      "enter x = 123\n",
      "enter x = 222\n",
      "enter x = 456\n",
      "enter x = 159\n",
      "[['123', '222'], ['456', '159']]\n"
     ]
    }
   ],
   "source": [
    "l = []\n",
    "r = int(input(\"enter r = \"))\n",
    "c = int(input(\"enter c = \"))\n",
    "for i in range(r):\n",
    "    y = []\n",
    "    for j in range(c):\n",
    "        x = input(\"enter x = \")\n",
    "        y.append(x)\n",
    "    l.append(y)\n",
    "    \n",
    "print(l)\n",
    "        \n"
   ]
  },
  {
   "cell_type": "code",
   "execution_count": 4,
   "id": "8aa8a231",
   "metadata": {},
   "outputs": [
    {
     "data": {
      "text/plain": [
       "[0, 1, 2, 3, 4]"
      ]
     },
     "execution_count": 4,
     "metadata": {},
     "output_type": "execute_result"
    }
   ],
   "source": [
    "a = [i for i in range (5)]\n",
    "a"
   ]
  },
  {
   "cell_type": "code",
   "execution_count": 6,
   "id": "0090480a",
   "metadata": {},
   "outputs": [
    {
     "data": {
      "text/plain": [
       "[1, 2, 3, 4, 5, 6, 7, 8, 9, 10, 11, 12, 13, 14, 15, 16, 17, 18, 19, 20]"
      ]
     },
     "execution_count": 6,
     "metadata": {},
     "output_type": "execute_result"
    }
   ],
   "source": [
    "a = [i for i in range (1,21)]\n",
    "a"
   ]
  },
  {
   "cell_type": "code",
   "execution_count": 12,
   "id": "38fb86ea",
   "metadata": {},
   "outputs": [
    {
     "data": {
      "text/plain": [
       "[2, 4, 6, 8, 10, 12, 14, 16, 18, 20]"
      ]
     },
     "execution_count": 12,
     "metadata": {},
     "output_type": "execute_result"
    }
   ],
   "source": [
    "a = [i for i in range (1,21) if i%2==0]\n",
    "a "
   ]
  },
  {
   "cell_type": "code",
   "execution_count": 18,
   "id": "31b004d6",
   "metadata": {},
   "outputs": [
    {
     "data": {
      "text/plain": [
       "[]"
      ]
     },
     "execution_count": 18,
     "metadata": {},
     "output_type": "execute_result"
    }
   ],
   "source": [
    "a = [\"Apple\",\"Banana\",\"mango\"]\n",
    "b = [i for i in a if i.isupper()]\n",
    "b"
   ]
  },
  {
   "cell_type": "code",
   "execution_count": 19,
   "id": "56becca3",
   "metadata": {},
   "outputs": [
    {
     "data": {
      "text/plain": [
       "[4, 8, 12, 16, 20]"
      ]
     },
     "execution_count": 19,
     "metadata": {},
     "output_type": "execute_result"
    }
   ],
   "source": [
    "a = [i for i in range (1,21) if (i%2==0) & (i%4==0)]\n",
    "a "
   ]
  },
  {
   "cell_type": "code",
   "execution_count": 21,
   "id": "af06a38d",
   "metadata": {},
   "outputs": [
    {
     "data": {
      "text/plain": [
       "['mango', 'cat', 'dog']"
      ]
     },
     "execution_count": 21,
     "metadata": {},
     "output_type": "execute_result"
    }
   ],
   "source": [
    "a = [\"Apple\",\"Banana\",\"mango\",\"cat\",\"dog\"]\n",
    "b = [i for i in a if i.islower()]\n",
    "b"
   ]
  },
  {
   "cell_type": "code",
   "execution_count": 22,
   "id": "cbd546bf",
   "metadata": {},
   "outputs": [
    {
     "data": {
      "text/plain": [
       "[]"
      ]
     },
     "execution_count": 22,
     "metadata": {},
     "output_type": "execute_result"
    }
   ],
   "source": [
    "a = [\"Apple\",\"Banana\",\"mango\",\"cat\",\"dog\"]\n",
    "b = [i for i in a if i.isupper()]\n",
    "b"
   ]
  },
  {
   "cell_type": "code",
   "execution_count": 1,
   "id": "0da8fc15",
   "metadata": {},
   "outputs": [
    {
     "name": "stdout",
     "output_type": "stream",
     "text": [
      "Enter n= 2\n",
      "Enter product = iphone\n",
      "Enter price = 100\n",
      "Enter quantity = 2\n",
      "Enter product = mango\n",
      "Enter price = 200\n",
      "Enter quantity = 1\n",
      "[['iphone', 100, 2, 200], ['mango', 200, 1, 200]]\n"
     ]
    }
   ],
   "source": [
    "#wap to create a billing system using list inside list\n",
    "\n",
    "bill = []\n",
    "n = int(input(\"Enter n= \"))\n",
    "for i in range(n):\n",
    "    product = input(\"Enter product = \")\n",
    "    price = int(input(\"Enter price = \"))\n",
    "    quantity = int(input(\"Enter quantity = \"))\n",
    "    total = price*quantity\n",
    "    i = [product,price,quantity,total]\n",
    "    bill.append(i)\n",
    "    \n",
    "print(bill)"
   ]
  },
  {
   "cell_type": "code",
   "execution_count": null,
   "id": "9abf38e1",
   "metadata": {},
   "outputs": [],
   "source": [
    "\n",
    "bill = []\n",
    "n = int(input(\"Enter n= \"))\n",
    "for i in range(n):\n",
    "    product = input(\"Enter product = \")\n",
    "    price = int(input(\"Enter price = \"))\n",
    "    quantity = int(input(\"Enter quantity = \"))\n",
    "    total = price*quantity\n",
    "    i = [product,price,quantity,total]\n",
    "    bill.append(i)\n",
    "    \n",
    "print(bill)"
   ]
  },
  {
   "cell_type": "code",
   "execution_count": null,
   "id": "3ab874c8",
   "metadata": {},
   "outputs": [],
   "source": []
  }
 ],
 "metadata": {
  "kernelspec": {
   "display_name": "Python 3 (ipykernel)",
   "language": "python",
   "name": "python3"
  },
  "language_info": {
   "codemirror_mode": {
    "name": "ipython",
    "version": 3
   },
   "file_extension": ".py",
   "mimetype": "text/x-python",
   "name": "python",
   "nbconvert_exporter": "python",
   "pygments_lexer": "ipython3",
   "version": "3.10.5"
  }
 },
 "nbformat": 4,
 "nbformat_minor": 5
}
