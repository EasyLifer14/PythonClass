{
 "cells": [
  {
   "cell_type": "code",
   "execution_count": 1,
   "id": "7fb89410",
   "metadata": {},
   "outputs": [
    {
     "name": "stdout",
     "output_type": "stream",
     "text": [
      "Hello world\n"
     ]
    }
   ],
   "source": [
    "class Hello :             #class\n",
    "    print(\"Hello world\")\n",
    "    \n",
    "obj = Hello()    #object"
   ]
  },
  {
   "cell_type": "code",
   "execution_count": 4,
   "id": "c84ec496",
   "metadata": {},
   "outputs": [
    {
     "name": "stdout",
     "output_type": "stream",
     "text": [
      "Hello world\n"
     ]
    }
   ],
   "source": [
    "class Hello:       #class\n",
    "    def hello(self):               #method\n",
    "        print(\"Hello world\")\n",
    "        \n",
    "obj = Hello()                    #object\n",
    "obj.hello()"
   ]
  },
  {
   "cell_type": "code",
   "execution_count": 6,
   "id": "4a51ed24",
   "metadata": {},
   "outputs": [
    {
     "name": "stdout",
     "output_type": "stream",
     "text": [
      "Hello world\n"
     ]
    }
   ],
   "source": [
    "class Hello:\n",
    "    @staticmethod\n",
    "    def hello():\n",
    "        print(\"Hello world\")\n",
    "        \n",
    "obj = Hello()\n",
    "obj.hello()"
   ]
  },
  {
   "cell_type": "code",
   "execution_count": 11,
   "id": "ae1cf59d",
   "metadata": {},
   "outputs": [
    {
     "name": "stdout",
     "output_type": "stream",
     "text": [
      "enter p = 100\n",
      "enter t = 2.5\n",
      "enter r = 4.3\n",
      "10.75\n"
     ]
    }
   ],
   "source": [
    "class Cal:\n",
    "    def cal(self,p,t,r):\n",
    "        i = p*t*r/100\n",
    "        print(i)\n",
    "p = int(input(\"enter p = \"))\n",
    "t = float(input(\"enter t = \"))\n",
    "r = float(input(\"enter r = \"))\n",
    "obj = Cal()\n",
    "obj.cal(p,t,r)"
   ]
  },
  {
   "cell_type": "code",
   "execution_count": 13,
   "id": "7a8097ec",
   "metadata": {},
   "outputs": [
    {
     "name": "stdout",
     "output_type": "stream",
     "text": [
      "enter l = 100.5\n",
      "enter b = 20\n",
      "enter h = 50.1\n",
      "2010.0\n",
      "100701.0\n"
     ]
    }
   ],
   "source": [
    "class Cal:\n",
    "    def area(self,l,b):\n",
    "        a = l*b\n",
    "        print(a)\n",
    "    def volume(self,l,b,h):\n",
    "        volume = l*b*h\n",
    "        print(volume)\n",
    "l = float(input(\"enter l = \"))\n",
    "b = float(input(\"enter b = \"))\n",
    "h = float(input(\"enter h = \"))\n",
    "\n",
    "obj = Cal()\n",
    "obj.area(l,b)\n",
    "obj.volume(l,b,h)"
   ]
  },
  {
   "cell_type": "code",
   "execution_count": 5,
   "id": "5a1d643b",
   "metadata": {},
   "outputs": [
    {
     "name": "stdout",
     "output_type": "stream",
     "text": [
      "enter p = 100\n",
      "enter t = 20\n",
      "enter r = 4\n",
      "80.0\n"
     ]
    }
   ],
   "source": [
    "class Cal:\n",
    "    def __init__(self,p,t,r):\n",
    "        self.p = p\n",
    "        self.t = t\n",
    "        self.r = r\n",
    "        \n",
    "    def cal(self):\n",
    "        i = self.p*self.t*self.r/100\n",
    "        print(i)\n",
    "        \n",
    "p = int(input(\"enter p = \"))\n",
    "t = float(input(\"enter t = \"))\n",
    "r = float(input(\"enter r = \"))\n",
    "obj = Cal(p,t,r)\n",
    "obj.cal()"
   ]
  },
  {
   "cell_type": "code",
   "execution_count": 6,
   "id": "3cbd9a43",
   "metadata": {},
   "outputs": [
    {
     "name": "stdout",
     "output_type": "stream",
     "text": [
      "enter l = 120\n",
      "enter b = 20\n",
      "enter h = 4.05\n",
      "2400.0\n",
      "9720.0\n"
     ]
    }
   ],
   "source": [
    "class Cal:\n",
    "    def __init__(self,l,b,h):\n",
    "        self.l = l\n",
    "        self.b = b\n",
    "        self.h = h\n",
    "        \n",
    "    def area(self):\n",
    "        a = self.l*self.b\n",
    "        print(a)\n",
    "    def volume(self):\n",
    "        volume = self.l*self.b*self.h\n",
    "        print(volume)\n",
    "l = float(input(\"enter l = \"))\n",
    "b = float(input(\"enter b = \"))\n",
    "h = float(input(\"enter h = \"))\n",
    "\n",
    "obj = Cal(l,b,h)\n",
    "obj.area()\n",
    "obj.volume()"
   ]
  },
  {
   "cell_type": "code",
   "execution_count": null,
   "id": "7ea287c2",
   "metadata": {},
   "outputs": [],
   "source": [
    "#str method"
   ]
  },
  {
   "cell_type": "code",
   "execution_count": 7,
   "id": "dd1479f8",
   "metadata": {},
   "outputs": [
    {
     "name": "stdout",
     "output_type": "stream",
     "text": [
      "Ram\n",
      "Ram\n"
     ]
    },
    {
     "data": {
      "text/plain": [
       "'Ram'"
      ]
     },
     "execution_count": 7,
     "metadata": {},
     "output_type": "execute_result"
    }
   ],
   "source": [
    "class info:\n",
    "    def __init__ (self,name,age):\n",
    "        self.name = name\n",
    "        self.age = age\n",
    "        \n",
    "    def __str__(self):\n",
    "        return self.name\n",
    "\n",
    "obj = info(\"Ram\",45)\n",
    "print(obj)\n",
    "obj.__str__()\n",
    "print(obj.__str__())\n",
    "str(obj)"
   ]
  },
  {
   "cell_type": "code",
   "execution_count": 8,
   "id": "8676daa0",
   "metadata": {},
   "outputs": [
    {
     "name": "stdout",
     "output_type": "stream",
     "text": [
      "45\n",
      "45\n"
     ]
    },
    {
     "data": {
      "text/plain": [
       "'45'"
      ]
     },
     "execution_count": 8,
     "metadata": {},
     "output_type": "execute_result"
    }
   ],
   "source": [
    "class info:\n",
    "    def __init__ (self,name,age):\n",
    "        self.name = name\n",
    "        self.age = age\n",
    "        \n",
    "    def __str__(self):\n",
    "        return str(self.age)\n",
    "\n",
    "obj = info(\"Ram\",45)\n",
    "print(obj)\n",
    "obj.__str__()\n",
    "print(obj.__str__())\n",
    "str(obj)"
   ]
  },
  {
   "cell_type": "code",
   "execution_count": 15,
   "id": "51ab0a0b",
   "metadata": {},
   "outputs": [
    {
     "name": "stdout",
     "output_type": "stream",
     "text": [
      "(self.x),(self.y)\n"
     ]
    }
   ],
   "source": [
    "class Point:\n",
    "    def __init__ (self, x = 0, y = 0):\n",
    "        self.x = x\n",
    "        self.y = y\n",
    "        \n",
    "    def __str__(self):\n",
    "        return f\"(self.x),(self.y)\"\n",
    "\n",
    "    def __add__(self,other):\n",
    "        x = self.x + other.x\n",
    "        y = self.y + other.y\n",
    "        return Point(x,y)\n",
    "    \n",
    "p1 = Point(2,3)\n",
    "p2 = Point(-1,2)\n",
    "print(p1 + p2)"
   ]
  },
  {
   "cell_type": "code",
   "execution_count": 4,
   "id": "a825c939",
   "metadata": {},
   "outputs": [
    {
     "name": "stdout",
     "output_type": "stream",
     "text": [
      "This is init method 2000\n",
      "This is init method 1500\n",
      "This is init method 1000\n",
      "This is add method 2000\n",
      "This is init method 3500\n",
      "This is add method 3500\n",
      "This is init method 4500\n",
      "This is str method 4500\n",
      "(self.x)\n"
     ]
    }
   ],
   "source": [
    "class Point:\n",
    "    def __init__ (self, x = 0):\n",
    "        self.x = x\n",
    "        print(\"This is init method\" ,self.x)\n",
    "        \n",
    "    def __str__(self):\n",
    "        print(\"This is str method\" ,self.x)\n",
    "        return f\"(self.x)\"\n",
    "\n",
    "    def __add__(self,other):\n",
    "        x = self.x + other.x\n",
    "        print(\"This is add method\" ,self.x)\n",
    "        return Point(x)\n",
    "    \n",
    "p1 = Point(2000)\n",
    "p2 = Point(1500)\n",
    "p3 = Point(1000)\n",
    "print(p1 + p2 + p3)"
   ]
  },
  {
   "cell_type": "code",
   "execution_count": 13,
   "id": "fb87b303",
   "metadata": {},
   "outputs": [
    {
     "name": "stdout",
     "output_type": "stream",
     "text": [
      "Parrot can fly.\n",
      "Penguin can't fly.\n"
     ]
    }
   ],
   "source": [
    "#polymerphysm\n",
    "class Parrot:\n",
    "    def fly(self):\n",
    "        print(\"Parrot can fly.\")\n",
    "    def swim(self):\n",
    "        print(\"Parrot can't swim.\")\n",
    "\n",
    "class Penguin:\n",
    "    def fly(self):\n",
    "        print(\"Penguin can't fly.\")\n",
    "    def swim(self):\n",
    "        print(\"Penguin can swim.\")\n",
    "        \n",
    "#common interface\n",
    "def flying_test(bird):\n",
    "    bird.fly()\n",
    "    \n",
    "#instantiate interface\n",
    "blu = Parrot()\n",
    "peggy = Penguin()\n",
    "\n",
    "#passing the object\n",
    "flying_test(blu)\n",
    "flying_test(peggy)"
   ]
  },
  {
   "cell_type": "code",
   "execution_count": null,
   "id": "5207f515",
   "metadata": {},
   "outputs": [],
   "source": []
  },
  {
   "cell_type": "code",
   "execution_count": null,
   "id": "08e85cce",
   "metadata": {},
   "outputs": [],
   "source": []
  },
  {
   "cell_type": "code",
   "execution_count": null,
   "id": "f381968f",
   "metadata": {},
   "outputs": [],
   "source": []
  },
  {
   "cell_type": "code",
   "execution_count": null,
   "id": "6b16379c",
   "metadata": {},
   "outputs": [],
   "source": []
  }
 ],
 "metadata": {
  "kernelspec": {
   "display_name": "Python 3 (ipykernel)",
   "language": "python",
   "name": "python3"
  },
  "language_info": {
   "codemirror_mode": {
    "name": "ipython",
    "version": 3
   },
   "file_extension": ".py",
   "mimetype": "text/x-python",
   "name": "python",
   "nbconvert_exporter": "python",
   "pygments_lexer": "ipython3",
   "version": "3.10.5"
  }
 },
 "nbformat": 4,
 "nbformat_minor": 5
}
