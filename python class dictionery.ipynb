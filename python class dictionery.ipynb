{
 "cells": [
  {
   "cell_type": "code",
   "execution_count": null,
   "id": "ad0fa65d",
   "metadata": {},
   "outputs": [],
   "source": [
    "#dict\n",
    "#indeed\n",
    "    ordered\n",
    "    mutiple values\n",
    "    mutable datatype"
   ]
  },
  {
   "cell_type": "code",
   "execution_count": null,
   "id": "d367dd77",
   "metadata": {},
   "outputs": [],
   "source": []
  },
  {
   "cell_type": "code",
   "execution_count": null,
   "id": "baf89514",
   "metadata": {},
   "outputs": [],
   "source": []
  },
  {
   "cell_type": "code",
   "execution_count": null,
   "id": "45664d63",
   "metadata": {},
   "outputs": [],
   "source": []
  },
  {
   "cell_type": "code",
   "execution_count": null,
   "id": "03b79cca",
   "metadata": {},
   "outputs": [],
   "source": []
  },
  {
   "cell_type": "code",
   "execution_count": 1,
   "id": "a3af62e5",
   "metadata": {},
   "outputs": [
    {
     "ename": "SyntaxError",
     "evalue": "invalid syntax (2330500641.py, line 3)",
     "output_type": "error",
     "traceback": [
      "\u001b[1;36m  Input \u001b[1;32mIn [1]\u001b[1;36m\u001b[0m\n\u001b[1;33m    d = {(key):(value):(key):(value):...}\u001b[0m\n\u001b[1;37m                      ^\u001b[0m\n\u001b[1;31mSyntaxError\u001b[0m\u001b[1;31m:\u001b[0m invalid syntax\n"
     ]
    }
   ],
   "source": [
    "#d = {}\n",
    "#d = dict{}\n",
    "d = {(key):(value):(key):(value):...}\n"
   ]
  },
  {
   "cell_type": "code",
   "execution_count": 2,
   "id": "4f195f52",
   "metadata": {},
   "outputs": [
    {
     "name": "stdout",
     "output_type": "stream",
     "text": [
      "{'a': 'apple', 'b': 'banana'}\n"
     ]
    }
   ],
   "source": [
    "d = {\"a\" : \"apple\",\"b\":\"banana\"}\n",
    "print(d)"
   ]
  },
  {
   "cell_type": "code",
   "execution_count": 5,
   "id": "b3c72c3a",
   "metadata": {},
   "outputs": [
    {
     "data": {
      "text/plain": [
       "'banana'"
      ]
     },
     "execution_count": 5,
     "metadata": {},
     "output_type": "execute_result"
    }
   ],
   "source": [
    "d[\"b\"]"
   ]
  },
  {
   "cell_type": "code",
   "execution_count": 6,
   "id": "d75cbfa4",
   "metadata": {},
   "outputs": [
    {
     "data": {
      "text/plain": [
       "2"
      ]
     },
     "execution_count": 6,
     "metadata": {},
     "output_type": "execute_result"
    }
   ],
   "source": [
    "len(d)"
   ]
  },
  {
   "cell_type": "code",
   "execution_count": 7,
   "id": "a72b0155",
   "metadata": {},
   "outputs": [
    {
     "data": {
      "text/plain": [
       "{'a': 'Apple', 'b': 'banana'}"
      ]
     },
     "execution_count": 7,
     "metadata": {},
     "output_type": "execute_result"
    }
   ],
   "source": [
    "d = {\"a\" : \"apple\",\"b\":\"banana\"}\n",
    "d[\"a\"] = \"Apple\"\n",
    "\n",
    "d"
   ]
  },
  {
   "cell_type": "code",
   "execution_count": 8,
   "id": "d5adc17e",
   "metadata": {},
   "outputs": [
    {
     "data": {
      "text/plain": [
       "{'a': 'apple', 'b': 'banana', 'd': 'dog'}"
      ]
     },
     "execution_count": 8,
     "metadata": {},
     "output_type": "execute_result"
    }
   ],
   "source": [
    "d = {\"a\" : \"apple\",\"b\":\"banana\"}\n",
    "d['d'] = \"dog\"\n",
    "\n",
    "d"
   ]
  },
  {
   "cell_type": "code",
   "execution_count": 9,
   "id": "64648d4d",
   "metadata": {},
   "outputs": [
    {
     "data": {
      "text/plain": [
       "{'a': 'apple', 'b': 'ball', 'c': 'cat'}"
      ]
     },
     "execution_count": 9,
     "metadata": {},
     "output_type": "execute_result"
    }
   ],
   "source": [
    "d= {}\n",
    "d[\"a\"] = \"apple\"\n",
    "d[\"b\"] = \"ball\"\n",
    "d[\"c\"] = \"cat\"\n",
    "d"
   ]
  },
  {
   "cell_type": "code",
   "execution_count": 10,
   "id": "aac9eb3d",
   "metadata": {},
   "outputs": [
    {
     "name": "stdout",
     "output_type": "stream",
     "text": [
      "enter n = 2\n",
      "enter name = ram\n",
      "enter phone = 9818519307\n",
      "enter name = shyam\n",
      "enter phone = 9813329357\n",
      "{'ram': '9818519307', 'shyam': '9813329357'}\n"
     ]
    }
   ],
   "source": [
    "d = {}\n",
    "n = int(input(\"enter n = \"))\n",
    "for i in range(n):\n",
    "    name = input(\"enter name = \")\n",
    "    phone = input(\"enter phone = \")\n",
    "    d[name] = phone\n",
    "    \n",
    "print(d)"
   ]
  },
  {
   "cell_type": "code",
   "execution_count": 11,
   "id": "02061dc2",
   "metadata": {},
   "outputs": [
    {
     "name": "stdout",
     "output_type": "stream",
     "text": [
      "ram\n",
      "shyam\n"
     ]
    }
   ],
   "source": [
    "for i in d:\n",
    "    print(i)"
   ]
  },
  {
   "cell_type": "code",
   "execution_count": 13,
   "id": "9a9f7df6",
   "metadata": {},
   "outputs": [
    {
     "name": "stdout",
     "output_type": "stream",
     "text": [
      "9818519307\n",
      "9813329357\n"
     ]
    }
   ],
   "source": [
    "for i in d.values():\n",
    "    print(i)"
   ]
  },
  {
   "cell_type": "code",
   "execution_count": 14,
   "id": "ce99085e",
   "metadata": {
    "scrolled": true
   },
   "outputs": [
    {
     "name": "stdout",
     "output_type": "stream",
     "text": [
      "('ram', '9818519307')\n",
      "('shyam', '9813329357')\n"
     ]
    }
   ],
   "source": [
    "for i in d.items():\n",
    "    print(i)"
   ]
  },
  {
   "cell_type": "code",
   "execution_count": 19,
   "id": "fa33a0d9",
   "metadata": {},
   "outputs": [
    {
     "name": "stdout",
     "output_type": "stream",
     "text": [
      "[('ram', '9818519307'), ('shyam', '9813329357')]\n"
     ]
    }
   ],
   "source": [
    "x = []\n",
    "d = {'ram': '9818519307', 'shyam': '9813329357'}\n",
    "for i in d.items():\n",
    "    x.append(i)\n",
    "print(x)"
   ]
  },
  {
   "cell_type": "code",
   "execution_count": 20,
   "id": "7902cf62",
   "metadata": {},
   "outputs": [
    {
     "data": {
      "text/plain": [
       "{'ram': '9818519307', 'shyam': '9813329357'}"
      ]
     },
     "execution_count": 20,
     "metadata": {},
     "output_type": "execute_result"
    }
   ],
   "source": [
    "dict(x)"
   ]
  },
  {
   "cell_type": "code",
   "execution_count": 21,
   "id": "1dda64fe",
   "metadata": {},
   "outputs": [
    {
     "data": {
      "text/plain": [
       "{'ram': '9818519307', 'shyam': '9813329357', 'hari': 981121546}"
      ]
     },
     "execution_count": 21,
     "metadata": {},
     "output_type": "execute_result"
    }
   ],
   "source": [
    "d = {'ram': '9818519307', 'shyam': '9813329357'}\n",
    "c = {\"hari\" : 981121546}\n",
    "d.update(c)\n",
    "d"
   ]
  },
  {
   "cell_type": "code",
   "execution_count": 22,
   "id": "0bdc8699",
   "metadata": {},
   "outputs": [
    {
     "data": {
      "text/plain": [
       "{'ram, sita': '9818519307', 'shyam': '9813329357'}"
      ]
     },
     "execution_count": 22,
     "metadata": {},
     "output_type": "execute_result"
    }
   ],
   "source": [
    "d = {'ram, sita': '9818519307', 'shyam': '9813329357'}\n",
    "d"
   ]
  },
  {
   "cell_type": "code",
   "execution_count": 23,
   "id": "191affdd",
   "metadata": {},
   "outputs": [
    {
     "data": {
      "text/plain": [
       "{'0': '9818519307', '1': '9813329357'}"
      ]
     },
     "execution_count": 23,
     "metadata": {},
     "output_type": "execute_result"
    }
   ],
   "source": [
    "d = {'0': '9818519307', '1': '9813329357'}\n",
    "d"
   ]
  },
  {
   "cell_type": "code",
   "execution_count": 27,
   "id": "ee1c3860",
   "metadata": {},
   "outputs": [
    {
     "ename": "SyntaxError",
     "evalue": "invalid syntax (2556030558.py, line 1)",
     "output_type": "error",
     "traceback": [
      "\u001b[1;36m  Input \u001b[1;32mIn [27]\u001b[1;36m\u001b[0m\n\u001b[1;33m    d = {\"ram\", \"sita\" : '9818519307', 'shyam': '9813329357'}\u001b[0m\n\u001b[1;37m                       ^\u001b[0m\n\u001b[1;31mSyntaxError\u001b[0m\u001b[1;31m:\u001b[0m invalid syntax\n"
     ]
    }
   ],
   "source": [
    "d = {\"ram\", \"sita\" : '9818519307', 'shyam': '9813329357'}\n",
    "d(\"ram\", \"sita\")"
   ]
  },
  {
   "cell_type": "code",
   "execution_count": 33,
   "id": "1b500da2",
   "metadata": {},
   "outputs": [
    {
     "data": {
      "text/plain": [
       "{'shyam': '9813329357'}"
      ]
     },
     "execution_count": 33,
     "metadata": {},
     "output_type": "execute_result"
    }
   ],
   "source": [
    "#del pop\n",
    "d = {'ram': '9818519307', 'shyam': '9813329357'}\n",
    "del d['ram']\n",
    "d\n"
   ]
  },
  {
   "cell_type": "code",
   "execution_count": 35,
   "id": "093fc13e",
   "metadata": {},
   "outputs": [
    {
     "data": {
      "text/plain": [
       "{'shyam': '9813329357'}"
      ]
     },
     "execution_count": 35,
     "metadata": {},
     "output_type": "execute_result"
    }
   ],
   "source": [
    "d = {'ram': '9818519307', 'shyam': '9813329357'}\n",
    "d.pop('ram')\n",
    "d"
   ]
  },
  {
   "cell_type": "code",
   "execution_count": 36,
   "id": "0383863e",
   "metadata": {},
   "outputs": [
    {
     "data": {
      "text/plain": [
       "{}"
      ]
     },
     "execution_count": 36,
     "metadata": {},
     "output_type": "execute_result"
    }
   ],
   "source": [
    "d = {'ram': '9818519307', 'shyam': '9813329357'}\n",
    "d.clear()\n",
    "d"
   ]
  },
  {
   "cell_type": "code",
   "execution_count": 37,
   "id": "e896b0ac",
   "metadata": {},
   "outputs": [],
   "source": [
    "#list inside dictionary\n",
    "d = {'ram': [9818519307, 985448485], 'shyam': [9813329357,9561485664]}\n"
   ]
  },
  {
   "cell_type": "code",
   "execution_count": 39,
   "id": "9953465c",
   "metadata": {},
   "outputs": [
    {
     "data": {
      "text/plain": [
       "{'ram': [9818519307, 985448485], 'shyam': [9813329357, 9561485664]}"
      ]
     },
     "execution_count": 39,
     "metadata": {},
     "output_type": "execute_result"
    }
   ],
   "source": [
    "d"
   ]
  },
  {
   "cell_type": "code",
   "execution_count": 44,
   "id": "3227eca3",
   "metadata": {},
   "outputs": [
    {
     "name": "stdout",
     "output_type": "stream",
     "text": [
      "[9818519307, 985448485]\n",
      "9818519307\n"
     ]
    }
   ],
   "source": [
    "print(d['ram'])\n",
    "print(d['ram'][0])"
   ]
  },
  {
   "cell_type": "code",
   "execution_count": 45,
   "id": "42e97475",
   "metadata": {},
   "outputs": [
    {
     "name": "stdout",
     "output_type": "stream",
     "text": [
      "enter n = 2\n",
      "enter name = rajan\n",
      "enter ntc_phone = 9843532131\n",
      "enter ncell_phone = 9818519307\n",
      "enter name = sita\n",
      "enter ntc_phone = 9856645465\n",
      "enter ncell_phone = 484545456464\n"
     ]
    },
    {
     "data": {
      "text/plain": [
       "{'rajan': [9843532131, 9818519307], 'sita': [9856645465, 484545456464]}"
      ]
     },
     "execution_count": 45,
     "metadata": {},
     "output_type": "execute_result"
    }
   ],
   "source": [
    "d = {}\n",
    "n = int(input(\"enter n = \"))\n",
    "for i in range(n):\n",
    "    name = input(\"enter name = \")\n",
    "    ntc_phone = int(input(\"enter ntc_phone = \"))\n",
    "    ncell_phone = int(input(\"enter ncell_phone = \"))\n",
    "    d[name] = [ntc_phone, ncell_phone]\n",
    "    \n",
    "d\n",
    "                    "
   ]
  },
  {
   "cell_type": "code",
   "execution_count": 46,
   "id": "d6fd78d1",
   "metadata": {},
   "outputs": [
    {
     "name": "stdout",
     "output_type": "stream",
     "text": [
      "enter n = 2\n",
      "enter name = rajan\n",
      "enter ntc_phone = 5456446546\n",
      "enter ncell_phone = 4654655\n",
      "enter age = 12\n",
      "enter name = sita\n",
      "enter ntc_phone = 56454654\n",
      "enter ncell_phone = 54654654\n",
      "enter age = 22\n"
     ]
    },
    {
     "data": {
      "text/plain": [
       "{'rajan': [5456446546, 4654655, 12], 'sita': [56454654, 54654654, 22]}"
      ]
     },
     "execution_count": 46,
     "metadata": {},
     "output_type": "execute_result"
    }
   ],
   "source": [
    "d = {}\n",
    "n = int(input(\"enter n = \"))\n",
    "for i in range(n):\n",
    "    name = input(\"enter name = \")\n",
    "    ntc_phone = int(input(\"enter ntc_phone = \"))\n",
    "    ncell_phone = int(input(\"enter ncell_phone = \"))\n",
    "    age = int(input(\"enter age = \"))\n",
    "    d[name] = [ntc_phone, ncell_phone, age]\n",
    "    \n",
    "d\n",
    "                    "
   ]
  },
  {
   "cell_type": "code",
   "execution_count": 47,
   "id": "bf463c4b",
   "metadata": {},
   "outputs": [],
   "source": [
    "a = {'rajan': [9843532131, 9818519307], 'sita': [9856645465, 484545456464]}\n",
    "a['hari'] = [9988945658, 656548465]"
   ]
  },
  {
   "cell_type": "code",
   "execution_count": 48,
   "id": "d4d0fc84",
   "metadata": {},
   "outputs": [
    {
     "data": {
      "text/plain": [
       "{'rajan': [9843532131, 9818519307],\n",
       " 'sita': [9856645465, 484545456464],\n",
       " 'hari': [9988945658, 656548465]}"
      ]
     },
     "execution_count": 48,
     "metadata": {},
     "output_type": "execute_result"
    }
   ],
   "source": [
    "a"
   ]
  },
  {
   "cell_type": "code",
   "execution_count": 53,
   "id": "d9be644e",
   "metadata": {},
   "outputs": [
    {
     "data": {
      "text/plain": [
       "9843532131"
      ]
     },
     "execution_count": 53,
     "metadata": {},
     "output_type": "execute_result"
    }
   ],
   "source": [
    "a = {'rajan': [9843532131, 9818519307], 'sita': [9856645465, 484545456464]}\n",
    "a['rajan'][0]"
   ]
  },
  {
   "cell_type": "code",
   "execution_count": 52,
   "id": "9f58aa20",
   "metadata": {},
   "outputs": [
    {
     "data": {
      "text/plain": [
       "{'rajan': [9856556454, 9818519307], 'sita': [9856645465, 484545456464]}"
      ]
     },
     "execution_count": 52,
     "metadata": {},
     "output_type": "execute_result"
    }
   ],
   "source": [
    "a = {'rajan': [9843532131, 9818519307], 'sita': [9856645465, 484545456464]}\n",
    "a['rajan'][0] = 9856556454\n",
    "a"
   ]
  },
  {
   "cell_type": "code",
   "execution_count": 55,
   "id": "15c96be1",
   "metadata": {},
   "outputs": [
    {
     "data": {
      "text/plain": [
       "{'rajan': [9843532131, 9818519307, 984566545],\n",
       " 'sita': [9856645465, 484545456464]}"
      ]
     },
     "execution_count": 55,
     "metadata": {},
     "output_type": "execute_result"
    }
   ],
   "source": [
    "a = {'rajan': [9843532131, 9818519307], 'sita': [9856645465, 484545456464]}\n",
    "a['rajan'].append(984566545)\n",
    "a"
   ]
  },
  {
   "cell_type": "code",
   "execution_count": 2,
   "id": "d2d4c50d",
   "metadata": {},
   "outputs": [
    {
     "name": "stdout",
     "output_type": "stream",
     "text": [
      "enter n = 2\n"
     ]
    },
    {
     "ename": "TypeError",
     "evalue": "'str' object cannot be interpreted as an integer",
     "output_type": "error",
     "traceback": [
      "\u001b[1;31m---------------------------------------------------------------------------\u001b[0m",
      "\u001b[1;31mTypeError\u001b[0m                                 Traceback (most recent call last)",
      "Input \u001b[1;32mIn [2]\u001b[0m, in \u001b[0;36m<cell line: 5>\u001b[1;34m()\u001b[0m\n\u001b[0;32m      3\u001b[0m add \u001b[38;5;241m=\u001b[39m []\n\u001b[0;32m      4\u001b[0m n \u001b[38;5;241m=\u001b[39m \u001b[38;5;28minput\u001b[39m(\u001b[38;5;124m\"\u001b[39m\u001b[38;5;124menter n = \u001b[39m\u001b[38;5;124m\"\u001b[39m)\n\u001b[1;32m----> 5\u001b[0m \u001b[38;5;28;01mfor\u001b[39;00m i \u001b[38;5;129;01min\u001b[39;00m \u001b[38;5;28;43mrange\u001b[39;49m\u001b[43m(\u001b[49m\u001b[43mn\u001b[49m\u001b[43m)\u001b[49m:\n\u001b[0;32m      6\u001b[0m     na \u001b[38;5;241m=\u001b[39m \u001b[38;5;28minput\u001b[39m(\u001b[38;5;124m\"\u001b[39m\u001b[38;5;124menter na = \u001b[39m\u001b[38;5;124m\"\u001b[39m)\n\u001b[0;32m      7\u001b[0m     ag \u001b[38;5;241m=\u001b[39m \u001b[38;5;28mint\u001b[39m(\u001b[38;5;28minput\u001b[39m(\u001b[38;5;124m\"\u001b[39m\u001b[38;5;124menter ag = \u001b[39m\u001b[38;5;124m\"\u001b[39m))\n",
      "\u001b[1;31mTypeError\u001b[0m: 'str' object cannot be interpreted as an integer"
     ]
    }
   ],
   "source": [
    "name = []\n",
    "age = []\n",
    "add = []\n",
    "n = input(\"enter n = \")\n",
    "for i in range(n):\n",
    "    na = input(\"enter na = \")\n",
    "    ag = int(input(\"enter ag = \"))\n",
    "    ad = input(\"enter ad = \")\n",
    "    name.append(na)\n",
    "    age.append(ag)\n",
    "    add.append(ad)\n",
    "    \n",
    "a = {\"name\" == name, \"age\" == age, \"address\" == add}\n",
    "a"
   ]
  },
  {
   "cell_type": "code",
   "execution_count": 1,
   "id": "2f31573a",
   "metadata": {},
   "outputs": [
    {
     "data": {
      "text/plain": [
       "[{'name': 'ram', 'age': 34, ' add': 'ktm'},\n",
       " {'name': 'shyam', 'age': 56, 'add': 'bkt'},\n",
       " {'name': 'sita', 'age': 20, 'add': 'lpr'}]"
      ]
     },
     "execution_count": 1,
     "metadata": {},
     "output_type": "execute_result"
    }
   ],
   "source": [
    "#dictionery inside list\n",
    "l = [{'name' : 'ram', 'age' : 34, ' add' : 'ktm' },\n",
    "    {'name' : 'shyam', 'age' : 56, 'add': 'bkt'},\n",
    "    {'name' : 'sita', 'age' : 20, 'add': 'lpr'}]\n",
    "l"
   ]
  },
  {
   "cell_type": "code",
   "execution_count": 2,
   "id": "9b3dec18",
   "metadata": {},
   "outputs": [
    {
     "name": "stdout",
     "output_type": "stream",
     "text": [
      "enter n = 2\n",
      "enter name = ram\n",
      "enter age = 20\n",
      "enter add = ktm\n",
      "enter name = shyam\n",
      "enter age = 23\n",
      "enter add = bkt\n",
      "[{'name': 'ram', 'age': 20, 'add': 'ktm'}, {'name': 'shyam', 'age': 23, 'add': 'bkt'}]\n"
     ]
    }
   ],
   "source": [
    "data = []\n",
    "n = int(input(\"enter n = \"))\n",
    "for i in range(n):\n",
    "    name = input(\"enter name = \")\n",
    "    age = int(input(\"enter age = \"))\n",
    "    add = input(\"enter add = \")\n",
    "    info = {'name' : name, 'age' : age, 'add' : add}\n",
    "    data.append(info)\n",
    "    \n",
    "print(data)"
   ]
  },
  {
   "cell_type": "code",
   "execution_count": 3,
   "id": "9beda825",
   "metadata": {},
   "outputs": [
    {
     "data": {
      "text/plain": [
       "[{'name': 'ram', 'age': 20, 'add': 'ktm'},\n",
       " {'name': 'shyam', 'age': 23, 'add': 'bkt'},\n",
       " {'name': 'sita', 'age': 26, ' add': 'lalitpur'}]"
      ]
     },
     "execution_count": 3,
     "metadata": {},
     "output_type": "execute_result"
    }
   ],
   "source": [
    "data = [{'name': 'ram', 'age': 20, 'add': 'ktm'},\n",
    "        {'name': 'shyam', 'age': 23, 'add': 'bkt'}]\n",
    "data.append({'name' : 'sita', 'age': 26, ' add' : 'lalitpur'})\n",
    "data"
   ]
  },
  {
   "cell_type": "code",
   "execution_count": 5,
   "id": "f5341b0b",
   "metadata": {},
   "outputs": [
    {
     "data": {
      "text/plain": [
       "{'name': 'ram', 'age': 20, 'add': 'ktm'}"
      ]
     },
     "execution_count": 5,
     "metadata": {},
     "output_type": "execute_result"
    }
   ],
   "source": [
    "data[0]"
   ]
  },
  {
   "cell_type": "code",
   "execution_count": 6,
   "id": "0822d436",
   "metadata": {},
   "outputs": [
    {
     "data": {
      "text/plain": [
       "'ram'"
      ]
     },
     "execution_count": 6,
     "metadata": {},
     "output_type": "execute_result"
    }
   ],
   "source": [
    "data[0]['name']"
   ]
  },
  {
   "cell_type": "code",
   "execution_count": 13,
   "id": "287d5d81",
   "metadata": {},
   "outputs": [
    {
     "data": {
      "text/plain": [
       "[{'age': 20, 'add': 'ktm', 'name': 'Rajan'},\n",
       " {'name': 'shyam', 'age': 23, 'add': 'bkt'},\n",
       " {'name': 'sita', 'age': 26, ' add': 'lalitpur'}]"
      ]
     },
     "execution_count": 13,
     "metadata": {},
     "output_type": "execute_result"
    }
   ],
   "source": [
    "data[0]['name'] = 'Rajan'\n",
    "data"
   ]
  },
  {
   "cell_type": "code",
   "execution_count": null,
   "id": "732f20f7",
   "metadata": {},
   "outputs": [],
   "source": [
    "#del"
   ]
  },
  {
   "cell_type": "code",
   "execution_count": null,
   "id": "96433fb6",
   "metadata": {},
   "outputs": [],
   "source": [
    "#dict inside dict"
   ]
  },
  {
   "cell_type": "code",
   "execution_count": 14,
   "id": "15e5795b",
   "metadata": {},
   "outputs": [
    {
     "data": {
      "text/plain": [
       "{1: {'name': 'ram', 'age': 25, 'add': 'ktm'},\n",
       " 2: {'name': 'shyam', 'age': 30, 'add': 'bkt'}}"
      ]
     },
     "execution_count": 14,
     "metadata": {},
     "output_type": "execute_result"
    }
   ],
   "source": [
    "a = {1 :{'name': 'ram','age': 25, 'add': 'ktm'},\n",
    "    2: {'name': 'shyam', 'age': 30,'add': 'bkt'}}\n",
    "a"
   ]
  },
  {
   "cell_type": "code",
   "execution_count": 15,
   "id": "8aa3ed86",
   "metadata": {},
   "outputs": [
    {
     "data": {
      "text/plain": [
       "{'name': 'ram', 'age': 25, 'add': 'ktm'}"
      ]
     },
     "execution_count": 15,
     "metadata": {},
     "output_type": "execute_result"
    }
   ],
   "source": [
    "a[1]"
   ]
  },
  {
   "cell_type": "code",
   "execution_count": 16,
   "id": "07a9c422",
   "metadata": {},
   "outputs": [
    {
     "data": {
      "text/plain": [
       "{'name': 'shyam', 'age': 30, 'add': 'bkt'}"
      ]
     },
     "execution_count": 16,
     "metadata": {},
     "output_type": "execute_result"
    }
   ],
   "source": [
    "a[2]"
   ]
  },
  {
   "cell_type": "code",
   "execution_count": 20,
   "id": "68487891",
   "metadata": {},
   "outputs": [
    {
     "name": "stdout",
     "output_type": "stream",
     "text": [
      "enter n = 2\n",
      "enter name = ram\n",
      "enter age = 20\n",
      "enter add = ktm\n",
      "enter name = shyam\n",
      "enter age = 33\n",
      "enter add = bkt\n",
      "{1: {'name': 'ram', 'age': 20, 'add': 'ktm'}, 2: {'name': 'shyam', 'age': 33, 'add': 'bkt'}}\n"
     ]
    }
   ],
   "source": [
    "d = {}\n",
    "n = int(input(\"enter n = \"))\n",
    "for i in range(1,n+1):\n",
    "    name = input(\"enter name = \")\n",
    "    age = int(input(\"enter age = \"))\n",
    "    add = input(\"enter add = \")\n",
    "    info = {'name' : name, 'age' : age, 'add' : add}\n",
    "    d[i] = info\n",
    "    \n",
    "print(d)"
   ]
  },
  {
   "cell_type": "code",
   "execution_count": 22,
   "id": "5614162e",
   "metadata": {},
   "outputs": [
    {
     "data": {
      "text/plain": [
       "{1: {'name': 'ram', 'age': 20, 'add': 'ktm'},\n",
       " 2: {'name': 'shyam', 'age': 33, 'add': 'bkt'},\n",
       " 3: {'name': 'sita', 'age': 23, 'add': 'ktm'}}"
      ]
     },
     "execution_count": 22,
     "metadata": {},
     "output_type": "execute_result"
    }
   ],
   "source": [
    "a = {1: {'name': 'ram', 'age': 20, 'add': 'ktm'},\n",
    "     2: {'name': 'shyam', 'age': 33, 'add': 'bkt'}}\n",
    "\n",
    "a[3] = {'name': 'sita', 'age':23, 'add': 'ktm'}\n",
    "a"
   ]
  },
  {
   "cell_type": "code",
   "execution_count": 23,
   "id": "356e9cc8",
   "metadata": {},
   "outputs": [
    {
     "data": {
      "text/plain": [
       "{1: {'name': 'Rajan', 'age': 20, 'add': 'ktm'},\n",
       " 2: {'name': 'shyam', 'age': 33, 'add': 'bkt'},\n",
       " 3: {'name': 'sita', 'age': 23, 'add': 'ktm'}}"
      ]
     },
     "execution_count": 23,
     "metadata": {},
     "output_type": "execute_result"
    }
   ],
   "source": [
    "a[1]['name'] = 'Rajan'\n",
    "a"
   ]
  },
  {
   "cell_type": "code",
   "execution_count": 25,
   "id": "ff849445",
   "metadata": {},
   "outputs": [
    {
     "name": "stdout",
     "output_type": "stream",
     "text": [
      "{'name': 'Rajan', 'age': 20, 'add': 'ktm'}\n",
      "{'name': 'shyam', 'age': 33, 'add': 'bkt'}\n",
      "{'name': 'sita', 'age': 23, 'add': 'ktm'}\n"
     ]
    }
   ],
   "source": [
    "for i in a.values():\n",
    "    print(i)"
   ]
  },
  {
   "cell_type": "code",
   "execution_count": 26,
   "id": "639977a2",
   "metadata": {},
   "outputs": [
    {
     "name": "stdout",
     "output_type": "stream",
     "text": [
      "enter phone = 9854112234\n",
      "enter phone = 985123545\n",
      "enter phone = 981326478\n",
      "{1: {'name': 'Rajan', 'age': 20, 'add': 'ktm', 'phone': 9854112234}, 2: {'name': 'shyam', 'age': 33, 'add': 'bkt', 'phone': 985123545}, 3: {'name': 'sita', 'age': 23, 'add': 'ktm', 'phone': 981326478}}\n"
     ]
    }
   ],
   "source": [
    "for i in a.values():\n",
    "    phone = int(input('enter phone = '))\n",
    "    i['phone'] = phone\n",
    "    \n",
    "print(a)"
   ]
  },
  {
   "cell_type": "code",
   "execution_count": 27,
   "id": "8ba903e4",
   "metadata": {},
   "outputs": [
    {
     "name": "stdout",
     "output_type": "stream",
     "text": [
      "enter ntc_phone = 9843568995\n",
      "enter ncell_phone = 981325478\n",
      "enter ntc_phone = 9832659845\n",
      "enter ncell_phone = 98185465879\n",
      "enter ntc_phone = 9851236578\n",
      "enter ncell_phone = 981313546887\n",
      "{1: {'name': 'Rajan', 'age': 20, 'add': 'ktm', 'phone': [9843568995, 981325478]}, 2: {'name': 'shyam', 'age': 33, 'add': 'bkt', 'phone': [9832659845, 98185465879]}, 3: {'name': 'sita', 'age': 23, 'add': 'ktm', 'phone': [9851236578, 981313546887]}}\n"
     ]
    }
   ],
   "source": [
    "for i in a.values():\n",
    "    ntc_phone = int(input('enter ntc_phone = '))\n",
    "    ncell_phone =  int(input('enter ncell_phone = '))\n",
    "    i['phone'] = [ntc_phone,ncell_phone]\n",
    "    \n",
    "print(a)"
   ]
  },
  {
   "cell_type": "code",
   "execution_count": 37,
   "id": "c151ad2a",
   "metadata": {},
   "outputs": [
    {
     "ename": "SyntaxError",
     "evalue": "invalid syntax (2937635437.py, line 2)",
     "output_type": "error",
     "traceback": [
      "\u001b[1;36m  Input \u001b[1;32mIn [37]\u001b[1;36m\u001b[0m\n\u001b[1;33m    a = {1:'physics':{'pr':50,'th':55},'chemistry':{'pr':40,'th':88},'math':90}\u001b[0m\n\u001b[1;37m                    ^\u001b[0m\n\u001b[1;31mSyntaxError\u001b[0m\u001b[1;31m:\u001b[0m invalid syntax\n"
     ]
    }
   ],
   "source": [
    "#crud\n",
    "a = {1:'physics':{'pr':50,'th':55},'chemistry':{'pr':40,'th':88},'math':90}\n",
    "a"
   ]
  },
  {
   "cell_type": "code",
   "execution_count": null,
   "id": "9a366cd3",
   "metadata": {},
   "outputs": [],
   "source": []
  }
 ],
 "metadata": {
  "kernelspec": {
   "display_name": "Python 3 (ipykernel)",
   "language": "python",
   "name": "python3"
  },
  "language_info": {
   "codemirror_mode": {
    "name": "ipython",
    "version": 3
   },
   "file_extension": ".py",
   "mimetype": "text/x-python",
   "name": "python",
   "nbconvert_exporter": "python",
   "pygments_lexer": "ipython3",
   "version": "3.10.5"
  }
 },
 "nbformat": 4,
 "nbformat_minor": 5
}
