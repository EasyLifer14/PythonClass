{
 "cells": [
  {
   "cell_type": "code",
   "execution_count": null,
   "id": "8bd98eca",
   "metadata": {},
   "outputs": [],
   "source": [
    "#.csd ."
   ]
  },
  {
   "cell_type": "code",
   "execution_count": null,
   "id": "7d6974d8",
   "metadata": {},
   "outputs": [],
   "source": [
    "file = open('<file name>','<mode>')\n",
    "#file.close()\n",
    "\n",
    "with  open('<file name','<mode>') as file:\n",
    "    <opratations>"
   ]
  },
  {
   "cell_type": "code",
   "execution_count": null,
   "id": "4c9e971d",
   "metadata": {},
   "outputs": [],
   "source": [
    "# modes\n",
    "# read -> 'r'\n",
    "#create -> 'x'\n",
    "#write -> 'w'\n",
    "#append -> 'a'"
   ]
  },
  {
   "cell_type": "code",
   "execution_count": 1,
   "id": "fc1d4c68",
   "metadata": {},
   "outputs": [],
   "source": [
    "file = open('data.txt','x')\n",
    "file.close() #run 2 times makes error "
   ]
  },
  {
   "cell_type": "code",
   "execution_count": 2,
   "id": "f01f8060",
   "metadata": {},
   "outputs": [
    {
     "name": "stdout",
     "output_type": "stream",
     "text": [
      "The file is already there\n"
     ]
    }
   ],
   "source": [
    "#error\n",
    "try:\n",
    "    file = open('data.txt','x')\n",
    "    file.close()\n",
    "except:\n",
    "    print('The file is already there')"
   ]
  },
  {
   "cell_type": "code",
   "execution_count": 4,
   "id": "ca09b3ee",
   "metadata": {},
   "outputs": [
    {
     "name": "stdout",
     "output_type": "stream",
     "text": [
      "1. Hello world\n",
      "2. Hello world\n",
      "3. Hello world\n",
      "4. Hello world\n",
      "5. Hello world\n",
      "6. Hello world\n",
      "7. Hello world\n"
     ]
    }
   ],
   "source": [
    "file = open('data.txt','r')\n",
    "x = file.read()\n",
    "print(x)\n",
    "file.close()"
   ]
  },
  {
   "cell_type": "code",
   "execution_count": 7,
   "id": "a6a610b6",
   "metadata": {},
   "outputs": [
    {
     "name": "stdout",
     "output_type": "stream",
     "text": [
      "1. Hello world\n",
      "2. Hello world\n",
      "3. Hello world\n",
      "4. Hello world\n",
      "5. Hello world\n",
      "6. Hello world\n",
      "7. Hello world\n",
      "<class 'str'>\n"
     ]
    }
   ],
   "source": [
    "file = open('data.txt','r')\n",
    "x = file.read()\n",
    "print(x)\n",
    "print(type(x))\n",
    "file.close()"
   ]
  },
  {
   "cell_type": "code",
   "execution_count": 9,
   "id": "edfdc320",
   "metadata": {},
   "outputs": [
    {
     "data": {
      "text/plain": [
       "['1. Hello world',\n",
       " '2. Hello world',\n",
       " '3. Hello world',\n",
       " '4. Hello world',\n",
       " '5. Hello world',\n",
       " '6. Hello world',\n",
       " '7. Hello world']"
      ]
     },
     "execution_count": 9,
     "metadata": {},
     "output_type": "execute_result"
    }
   ],
   "source": [
    "y = x.split('\\n')\n",
    "y"
   ]
  },
  {
   "cell_type": "code",
   "execution_count": 11,
   "id": "6448ef9c",
   "metadata": {},
   "outputs": [
    {
     "data": {
      "text/plain": [
       "'5. Hello world'"
      ]
     },
     "execution_count": 11,
     "metadata": {},
     "output_type": "execute_result"
    }
   ],
   "source": [
    "y[4]"
   ]
  },
  {
   "cell_type": "code",
   "execution_count": 12,
   "id": "28fb7995",
   "metadata": {},
   "outputs": [],
   "source": [
    "file = open('data.txt','w')\n",
    "file.write('Hello world I am python')\n",
    "file.close()"
   ]
  },
  {
   "cell_type": "code",
   "execution_count": 18,
   "id": "bf44922b",
   "metadata": {},
   "outputs": [
    {
     "name": "stdout",
     "output_type": "stream",
     "text": [
      "enter n = 2\n",
      "enter name = Apple\n",
      "enter price = 120\n",
      "enter quantity = 3\n",
      "enter name = Potato\n",
      "enter price = 100\n",
      "enter quantity = 12\n"
     ]
    }
   ],
   "source": [
    "bill = \"\" \n",
    "n = int(input('enter n = '))\n",
    "for i in range(n):\n",
    "    name = input('enter name = ')\n",
    "    price = int(input('enter price = '))\n",
    "    quantity = int(input('enter quantity = '))\n",
    "    total = price*quantity\n",
    "    bill = bill +f\"{name} {price} {quantity} {total}\\n\"\n",
    "    \n",
    "file = open('datas.txt','w')\n",
    "file.write(bill)\n",
    "file.close()"
   ]
  },
  {
   "cell_type": "code",
   "execution_count": 20,
   "id": "ceb65f83",
   "metadata": {},
   "outputs": [
    {
     "name": "stdout",
     "output_type": "stream",
     "text": [
      "enter n = 2\n",
      "enter name = Mango\n",
      "enter price = 100\n",
      "enter quantity = 20\n",
      "enter name = Pineapple\n",
      "enter price = 50\n",
      "enter quantity = 2\n"
     ]
    }
   ],
   "source": [
    "bill = \"\" \n",
    "n = int(input('enter n = '))\n",
    "for i in range(n):\n",
    "    name = input('enter name = ')\n",
    "    price = int(input('enter price = '))\n",
    "    quantity = int(input('enter quantity = '))\n",
    "    total = price*quantity\n",
    "    bill = bill +f\"\\n{name} {price} {quantity} {total}\\n\"\n",
    "    \n",
    "file = open('datas.txt','a')\n",
    "file.write(bill)\n",
    "file.close()"
   ]
  },
  {
   "cell_type": "code",
   "execution_count": 22,
   "id": "bcfa6a31",
   "metadata": {},
   "outputs": [
    {
     "name": "stdout",
     "output_type": "stream",
     "text": [
      "enter n = 3\n",
      "enter name = Iphone\n",
      "enter price = 15000\n",
      "enter quantity = 2\n",
      "enter name = Ipad\n",
      "enter price = 30000\n",
      "enter quantity = 2\n",
      "enter name = Mouse\n",
      "enter price = 1500\n",
      "enter quantity = 1\n"
     ]
    }
   ],
   "source": [
    "bill = \"\" \n",
    "n = int(input('enter n = '))\n",
    "for i in range(n):\n",
    "    name = input('enter name = ')\n",
    "    price = int(input('enter price = '))\n",
    "    quantity = int(input('enter quantity = '))\n",
    "    total = price*quantity\n",
    "    bill = bill +f\"{name},{price},{quantity},{total}\\n\"\n",
    "    \n",
    "file = open('datas.csv','w')\n",
    "file.write('Name,Price,Quantity,Total\\n')\n",
    "file.write(bill)\n",
    "file.close()"
   ]
  },
  {
   "cell_type": "code",
   "execution_count": 23,
   "id": "36857b2b",
   "metadata": {},
   "outputs": [
    {
     "name": "stdout",
     "output_type": "stream",
     "text": [
      "Name,Price,Quantity,Total\n",
      "Iphone,15000,2,30000\n",
      "Ipad,30000,2,60000\n",
      "Mouse,1500,1,1500\n",
      "\n"
     ]
    }
   ],
   "source": [
    "file = open('datas.csv','r')\n",
    "x = file.read()\n",
    "print(x)\n",
    "file.close()"
   ]
  },
  {
   "cell_type": "code",
   "execution_count": 24,
   "id": "99e597b8",
   "metadata": {},
   "outputs": [
    {
     "data": {
      "text/plain": [
       "['Name,Price,Quantity,Total',\n",
       " 'Iphone,15000,2,30000',\n",
       " 'Ipad,30000,2,60000',\n",
       " 'Mouse,1500,1,1500',\n",
       " '']"
      ]
     },
     "execution_count": 24,
     "metadata": {},
     "output_type": "execute_result"
    }
   ],
   "source": [
    "y = x.split('\\n')\n",
    "y"
   ]
  },
  {
   "cell_type": "code",
   "execution_count": 30,
   "id": "4d63feb8",
   "metadata": {},
   "outputs": [
    {
     "data": {
      "text/plain": [
       "['Name,Price,Quantity,Total',\n",
       " 'Iphone,15000,2,30000',\n",
       " 'Ipad,30000,2,60000',\n",
       " 'Mouse,1500,1,1500']"
      ]
     },
     "execution_count": 30,
     "metadata": {},
     "output_type": "execute_result"
    }
   ],
   "source": [
    "y = x.split('\\n')[0:-1]\n",
    "y"
   ]
  },
  {
   "cell_type": "code",
   "execution_count": 32,
   "id": "73477230",
   "metadata": {},
   "outputs": [
    {
     "data": {
      "text/plain": [
       "[['Name,Price,Quantity,Total'],\n",
       " ['Iphone,15000,2,30000'],\n",
       " ['Ipad,30000,2,60000'],\n",
       " ['Mouse,1500,1,1500']]"
      ]
     },
     "execution_count": 32,
     "metadata": {},
     "output_type": "execute_result"
    }
   ],
   "source": [
    "bills = []\n",
    "for i in y:\n",
    "    bills.append(i.split('.'))\n",
    "\n",
    "bills"
   ]
  },
  {
   "cell_type": "code",
   "execution_count": 1,
   "id": "7935b72a",
   "metadata": {},
   "outputs": [
    {
     "ename": "NameError",
     "evalue": "name 'bills' is not defined",
     "output_type": "error",
     "traceback": [
      "\u001b[1;31m---------------------------------------------------------------------------\u001b[0m",
      "\u001b[1;31mNameError\u001b[0m                                 Traceback (most recent call last)",
      "Input \u001b[1;32mIn [1]\u001b[0m, in \u001b[0;36m<cell line: 2>\u001b[1;34m()\u001b[0m\n\u001b[0;32m      1\u001b[0m all_total \u001b[38;5;241m=\u001b[39m \u001b[38;5;241m0\u001b[39m\n\u001b[1;32m----> 2\u001b[0m \u001b[38;5;28;01mfor\u001b[39;00m i \u001b[38;5;129;01min\u001b[39;00m \u001b[38;5;28mrange\u001b[39m(\u001b[38;5;241m1\u001b[39m,\u001b[38;5;28mlen\u001b[39m(\u001b[43mbills\u001b[49m)):\n\u001b[0;32m      3\u001b[0m     z \u001b[38;5;241m=\u001b[39m \u001b[38;5;28mint\u001b[39m(bills[i][\u001b[38;5;241m3\u001b[39m])\n\u001b[0;32m      4\u001b[0m     all_total \u001b[38;5;241m=\u001b[39m all_total\u001b[38;5;241m+\u001b[39mz\n",
      "\u001b[1;31mNameError\u001b[0m: name 'bills' is not defined"
     ]
    }
   ],
   "source": [
    "\n",
    "all_total = 0\n",
    "for i in range(1, len(bills)):\n",
    "    z = int(bills[i][3])\n",
    "    all_total = all_total+z\n",
    "    \n",
    "all_total"
   ]
  },
  {
   "cell_type": "code",
   "execution_count": null,
   "id": "d6645d0c",
   "metadata": {},
   "outputs": [],
   "source": [
    "#pandas\n",
    "#csv\n"
   ]
  },
  {
   "cell_type": "code",
   "execution_count": 2,
   "id": "318f407e",
   "metadata": {},
   "outputs": [],
   "source": [
    "try:\n",
    "    file = open('data.csv', 'x')\n",
    "    file = close()\n",
    "except:\n",
    "    passa"
   ]
  },
  {
   "cell_type": "code",
   "execution_count": 4,
   "id": "e4e16a56",
   "metadata": {},
   "outputs": [
    {
     "ename": "ModuleNotFoundError",
     "evalue": "No module named 'pandas'",
     "output_type": "error",
     "traceback": [
      "\u001b[1;31m---------------------------------------------------------------------------\u001b[0m",
      "\u001b[1;31mModuleNotFoundError\u001b[0m                       Traceback (most recent call last)",
      "Input \u001b[1;32mIn [4]\u001b[0m, in \u001b[0;36m<cell line: 1>\u001b[1;34m()\u001b[0m\n\u001b[1;32m----> 1\u001b[0m \u001b[38;5;28;01mimport\u001b[39;00m \u001b[38;5;21;01mpandas\u001b[39;00m \u001b[38;5;28;01mas\u001b[39;00m \u001b[38;5;21;01mpd\u001b[39;00m\n\u001b[0;32m      2\u001b[0m df \u001b[38;5;241m=\u001b[39m pd\u001b[38;5;241m.\u001b[39mread_csv(\u001b[38;5;124m'\u001b[39m\u001b[38;5;124mdata.csv\u001b[39m\u001b[38;5;124m'\u001b[39m)\n\u001b[0;32m      3\u001b[0m df\n",
      "\u001b[1;31mModuleNotFoundError\u001b[0m: No module named 'pandas'"
     ]
    }
   ],
   "source": [
    "import pandas as pd\n",
    "df = pd.read_csv('data.csv')\n",
    "df"
   ]
  },
  {
   "cell_type": "code",
   "execution_count": null,
   "id": "bf04edfa",
   "metadata": {},
   "outputs": [],
   "source": []
  },
  {
   "cell_type": "code",
   "execution_count": null,
   "id": "f0d75180",
   "metadata": {},
   "outputs": [],
   "source": []
  },
  {
   "cell_type": "code",
   "execution_count": null,
   "id": "30b95fdf",
   "metadata": {},
   "outputs": [],
   "source": []
  },
  {
   "cell_type": "code",
   "execution_count": null,
   "id": "432c6ca0",
   "metadata": {},
   "outputs": [],
   "source": []
  }
 ],
 "metadata": {
  "kernelspec": {
   "display_name": "Python 3 (ipykernel)",
   "language": "python",
   "name": "python3"
  },
  "language_info": {
   "codemirror_mode": {
    "name": "ipython",
    "version": 3
   },
   "file_extension": ".py",
   "mimetype": "text/x-python",
   "name": "python",
   "nbconvert_exporter": "python",
   "pygments_lexer": "ipython3",
   "version": "3.10.5"
  }
 },
 "nbformat": 4,
 "nbformat_minor": 5
}
