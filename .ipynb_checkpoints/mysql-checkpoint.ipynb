{
 "cells": [
  {
   "cell_type": "code",
   "execution_count": 2,
   "id": "9d38193f",
   "metadata": {},
   "outputs": [
    {
     "name": "stdout",
     "output_type": "stream",
     "text": [
      "Requirement already satisfied: mysql-connector in c:\\users\\acer\\appdata\\local\\programs\\python\\python310\\lib\\site-packages (2.2.9)\n"
     ]
    }
   ],
   "source": [
    "!pip install mysql-connector"
   ]
  },
  {
   "cell_type": "code",
   "execution_count": 2,
   "id": "8e990aea",
   "metadata": {},
   "outputs": [],
   "source": [
    "import mysql.connector  \t\t#importing database\n",
    "\n",
    "database = mysql.connector.connect(\n",
    "  host=\"localhost\",\n",
    "  user=\"root\",\n",
    "  password=\"\",\n",
    "    database = \"python3pm\"\n",
    ")\n",
    "db = database.cursor()"
   ]
  },
  {
   "cell_type": "code",
   "execution_count": 17,
   "id": "a158a19f",
   "metadata": {},
   "outputs": [
    {
     "name": "stdout",
     "output_type": "stream",
     "text": [
      "(1, 75, 80, 85, 90, 65, 500, 85.2, 'A', 'Rajan')\n",
      "(2, 75, 80, 85, 90, 65, 500, 85.2, 'A', 'Ram')\n",
      "(3, 65, 75, 70, 85, 80, 450, 80.45, 'A', 'Ramesh')\n"
     ]
    }
   ],
   "source": [
    "db.execute(\"SELECT * FROM student\")\n",
    "result =db.fetchall()\n",
    "\n",
    "for x in result:\n",
    "  print(x)\n"
   ]
  },
  {
   "cell_type": "code",
   "execution_count": 19,
   "id": "92edfe3a",
   "metadata": {},
   "outputs": [
    {
     "name": "stdout",
     "output_type": "stream",
     "text": [
      "(1, 'Rajan', 500)\n",
      "(2, 'Ram', 500)\n",
      "(3, 'Ramesh', 450)\n"
     ]
    }
   ],
   "source": [
    "db.execute(\"SELECT sn,name,total FROM student\")\n",
    "result =db.fetchall()\n",
    "\n",
    "for x in result:\n",
    "  print(x)"
   ]
  },
  {
   "cell_type": "code",
   "execution_count": 21,
   "id": "b2245be9",
   "metadata": {},
   "outputs": [],
   "source": [
    "#inserting data\n",
    "sql = f\"INSERT INTO student(sn,name,physics,chemistry,math,english,nepali,total,per,grade)values(7,'Sajan',88,90,75,88,86,550,87,'A')\"\n",
    "db.execute(sql)\n",
    "database.commit()"
   ]
  },
  {
   "cell_type": "code",
   "execution_count": 24,
   "id": "075b608e",
   "metadata": {},
   "outputs": [],
   "source": [
    "#inserting data\n",
    "sql = f\"INSERT INTO student(sn,name,physics,chemistry,math,english,nepali,total,per,grade)values(8,'Shyam',90,92,95,93,88,600,90.5,'A')\"\n",
    "db.execute(sql)\n",
    "database.commit()"
   ]
  },
  {
   "cell_type": "code",
   "execution_count": 8,
   "id": "0b2f6641",
   "metadata": {},
   "outputs": [
    {
     "name": "stdout",
     "output_type": "stream",
     "text": [
      "enter name = Shreya\n",
      "enter physics = 92\n",
      "enter math = 95\n",
      "enter chemistry = 88\n",
      "enter english = 90\n",
      "enter nepali = 75\n"
     ]
    }
   ],
   "source": [
    "name = input(\"enter name = \")\n",
    "physics = int(input(\"enter physics = \"))\n",
    "math = int(input(\"enter math = \"))\n",
    "chemistry = int(input(\"enter chemistry = \"))\n",
    "english = int(input(\"enter english = \"))\n",
    "nepali = int(input(\"enter nepali = \"))\n",
    "total = sum([physics,math,chemistry,english,nepali])\n",
    "per = total/5\n",
    "if per >= 80:\n",
    "    grade = 'A'\n",
    "elif per >= 70:\n",
    "    grade = 'B'\n",
    "elif per >= 60:\n",
    "    grade = 'C'\n",
    "else:\n",
    "    grade = 'F'\n",
    "    \n",
    "sql = f\"INSERT INTO student(name,physics,chemistry,math,english,nepali,total,per,grade) VALUES('{name}',{physics},{math},{chemistry},{english},{nepali},{total},{per},'{grade}')\"\n",
    "db.execute(sql)\n",
    "database.commit()"
   ]
  },
  {
   "cell_type": "code",
   "execution_count": 12,
   "id": "e755c80b",
   "metadata": {},
   "outputs": [],
   "source": [
    "sql = \"DELETE FROM student WHERE sn = 8\"\n",
    "db.execute(sql)\n",
    "database.commit()"
   ]
  },
  {
   "cell_type": "code",
   "execution_count": 4,
   "id": "9edaa678",
   "metadata": {},
   "outputs": [],
   "source": [
    "#update\n",
    "sql = \"UPDATE student SET name = 'Aniyah' WHERE name = 'Shreya'\"\n",
    "db.execute(sql)\n",
    "database.commit()"
   ]
  },
  {
   "cell_type": "code",
   "execution_count": null,
   "id": "7ab31e05",
   "metadata": {},
   "outputs": [],
   "source": []
  },
  {
   "cell_type": "code",
   "execution_count": null,
   "id": "42676b07",
   "metadata": {},
   "outputs": [],
   "source": []
  },
  {
   "cell_type": "code",
   "execution_count": null,
   "id": "ad3c4bce",
   "metadata": {},
   "outputs": [],
   "source": []
  }
 ],
 "metadata": {
  "kernelspec": {
   "display_name": "Python 3 (ipykernel)",
   "language": "python",
   "name": "python3"
  },
  "language_info": {
   "codemirror_mode": {
    "name": "ipython",
    "version": 3
   },
   "file_extension": ".py",
   "mimetype": "text/x-python",
   "name": "python",
   "nbconvert_exporter": "python",
   "pygments_lexer": "ipython3",
   "version": "3.10.5"
  }
 },
 "nbformat": 4,
 "nbformat_minor": 5
}
