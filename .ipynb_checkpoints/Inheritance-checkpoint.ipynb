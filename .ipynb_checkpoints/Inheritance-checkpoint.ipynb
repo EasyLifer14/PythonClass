{
 "cells": [
  {
   "cell_type": "code",
   "execution_count": null,
   "id": "8b9a9a6b",
   "metadata": {},
   "outputs": [],
   "source": [
    "#inheritance"
   ]
  },
  {
   "cell_type": "code",
   "execution_count": null,
   "id": "9780d6c4",
   "metadata": {},
   "outputs": [],
   "source": [
    "class A:\n",
    "    pass\n",
    "class B(A):\n",
    "    pass"
   ]
  },
  {
   "cell_type": "code",
   "execution_count": 6,
   "id": "4df9fd60",
   "metadata": {},
   "outputs": [
    {
     "name": "stdout",
     "output_type": "stream",
     "text": [
      "Hello World I am RAM. I am 30\n"
     ]
    }
   ],
   "source": [
    "class A:\n",
    "    def __init__(self):\n",
    "        self.name = \"RAM\"\n",
    "        self.age = 30\n",
    "        \n",
    "class B(A):\n",
    "    def info(self):\n",
    "        print(f\"Hello World I am {self.name}. I am {self.age}\")\n",
    "\n",
    "obj = B()\n",
    "obj.info()"
   ]
  },
  {
   "cell_type": "code",
   "execution_count": 11,
   "id": "8e20d0cd",
   "metadata": {},
   "outputs": [
    {
     "name": "stdout",
     "output_type": "stream",
     "text": [
      "enter name = RAM\n",
      "enter age = 20\n",
      "Hello World I am RAM. I am 20\n"
     ]
    }
   ],
   "source": [
    "class A:\n",
    "    def __init__(self,name,age):\n",
    "        self.name = name\n",
    "        self.age = age\n",
    "        \n",
    "class B(A):\n",
    "    def info(self):\n",
    "        print(f\"Hello World I am {self.name}. I am {self.age}\")\n",
    "\n",
    "name = input(\"enter name = \")\n",
    "age = int(input(\"enter age = \"))\n",
    "\n",
    "obj = B(name,age)\n",
    "obj.info()"
   ]
  },
  {
   "cell_type": "code",
   "execution_count": 15,
   "id": "8da54db1",
   "metadata": {},
   "outputs": [
    {
     "name": "stdout",
     "output_type": "stream",
     "text": [
      "enter name = RAjAN\n",
      "enter age = 24\n",
      "Hello World I am RAjAN. I am 24\n"
     ]
    }
   ],
   "source": [
    "class A:\n",
    "    def __init__(self,age):\n",
    "        self.age = age\n",
    "        \n",
    "class B(A):\n",
    "    def __init__(self,name,age):\n",
    "        self.name = name\n",
    "        A.__init__(self,age)\n",
    "\n",
    "    def info(self):\n",
    "        print(f\"Hello World I am {self.name}. I am {self.age}.\")\n",
    "\n",
    "name = input(\"enter name = \")\n",
    "age = int(input(\"enter age = \"))\n",
    "\n",
    "obj = B(name,age)\n",
    "obj.info()"
   ]
  },
  {
   "cell_type": "code",
   "execution_count": 17,
   "id": "a686f620",
   "metadata": {},
   "outputs": [
    {
     "name": "stdout",
     "output_type": "stream",
     "text": [
      "enter name = RAm\n",
      "enter age = 25\n",
      "Hello World I am RAm. I am 25.\n",
      "Hello World, I am 25\n"
     ]
    }
   ],
   "source": [
    "class A:\n",
    "    def __init__(self,age):\n",
    "        self.age = age\n",
    "        \n",
    "    def c(self):\n",
    "        print(f\"Hello World, I am {self.age}\")\n",
    "class B(A):\n",
    "    def __init__(self,name,age):\n",
    "        self.name = name\n",
    "        A.__init__(self,age)\n",
    "\n",
    "    def info(self):\n",
    "        print(f\"Hello World I am {self.name}. I am {self.age}.\")\n",
    "\n",
    "name = input(\"enter name = \")\n",
    "age = int(input(\"enter age = \"))\n",
    "\n",
    "obj = B(name,age)\n",
    "obj.info()\n",
    "obj.c()"
   ]
  },
  {
   "cell_type": "code",
   "execution_count": null,
   "id": "d749da0a",
   "metadata": {},
   "outputs": [],
   "source": [
    "#multi level & #multiple"
   ]
  },
  {
   "cell_type": "code",
   "execution_count": 18,
   "id": "4889aa50",
   "metadata": {},
   "outputs": [],
   "source": [
    "#multi level inheritance\n",
    "class A:\n",
    "    pass\n",
    "class B(A):\n",
    "    pass\n",
    "class C(B):\n",
    "    pass\n",
    "\n",
    "obj  = C()"
   ]
  },
  {
   "cell_type": "code",
   "execution_count": 19,
   "id": "0e520e7b",
   "metadata": {},
   "outputs": [],
   "source": [
    "#multiple inheritance\n",
    "class A:\n",
    "    pass\n",
    "class B():\n",
    "    pass\n",
    "class C(A,B):\n",
    "    pass\n",
    "\n",
    "obj  = C()"
   ]
  },
  {
   "cell_type": "code",
   "execution_count": 23,
   "id": "54c88982",
   "metadata": {},
   "outputs": [
    {
     "name": "stdout",
     "output_type": "stream",
     "text": [
      "enter name = RAjan\n",
      "enter age = 24\n",
      "enter add = ktm\n",
      "Hello World I am RAjan. I am 24.I am from ktm\n"
     ]
    }
   ],
   "source": [
    "class A:\n",
    "    def __init__(self,age):\n",
    "        self.age = age\n",
    "        \n",
    "class B(A):\n",
    "    def __init__ (self,age,add):\n",
    "        self.add = add\n",
    "        A.__init__(self,age)\n",
    "        \n",
    "class C(B):\n",
    "    def __init__(self,name,age,add):\n",
    "        self.name = name\n",
    "        B.__init__(self,age,add)\n",
    "\n",
    "    def info(self):\n",
    "        print(f\"Hello World I am {self.name}. I am {self.age}.I am from {self.add}\")\n",
    "\n",
    "name = input(\"enter name = \")\n",
    "age = int(input(\"enter age = \"))\n",
    "add = input(\"enter add = \")\n",
    "\n",
    "obj = C(name,age,add)\n",
    "obj.info()"
   ]
  },
  {
   "cell_type": "code",
   "execution_count": 25,
   "id": "4b779265",
   "metadata": {},
   "outputs": [
    {
     "name": "stdout",
     "output_type": "stream",
     "text": [
      "enter name = RAjan\n",
      "enter age = 24\n",
      "enter add = ktm\n",
      "Hello World I am RAjan. I am 24.I am from ktm\n"
     ]
    }
   ],
   "source": [
    "class A:\n",
    "    def __init__(self,age):\n",
    "        self.age = age\n",
    "        \n",
    "class B():\n",
    "    def __init__ (self,add):\n",
    "        self.add = add\n",
    "        \n",
    "class C(A,B):\n",
    "    def __init__(self,name,age,add):\n",
    "        self.name = name\n",
    "        A.__init__(self,age)\n",
    "        B.__init__(self,add)\n",
    "\n",
    "    def info(self):\n",
    "        print(f\"Hello World I am {self.name}. I am {self.age}.I am from {self.add}\")\n",
    "\n",
    "name = input(\"enter name = \")\n",
    "age = int(input(\"enter age = \"))\n",
    "add = input(\"enter add = \")\n",
    "\n",
    "obj = C(name,age,add)\n",
    "obj.info()"
   ]
  },
  {
   "cell_type": "code",
   "execution_count": 1,
   "id": "e45204f1",
   "metadata": {},
   "outputs": [
    {
     "name": "stdout",
     "output_type": "stream",
     "text": [
      "Ram\n",
      "KTM\n",
      "20\n"
     ]
    }
   ],
   "source": [
    "#public members\n",
    "class info:\n",
    "    def __init__ (self):\n",
    "        self.name = \"Ram\"\n",
    "        self.add = \"KTM\"\n",
    "        self.age = 20\n",
    "        \n",
    "obj = info()\n",
    "print(obj.name)\n",
    "print(obj.add)\n",
    "print(obj.age)"
   ]
  },
  {
   "cell_type": "code",
   "execution_count": 3,
   "id": "f47a41ef",
   "metadata": {},
   "outputs": [
    {
     "name": "stdout",
     "output_type": "stream",
     "text": [
      "Ram\n",
      "KTM\n",
      "20\n"
     ]
    }
   ],
   "source": [
    "#protected members\n",
    "class info:\n",
    "    def __init__ (self):\n",
    "        self._name = \"Ram\"\n",
    "        self._add = \"KTM\"\n",
    "        self._age = 20\n",
    "        \n",
    "obj = info()\n",
    "print(obj._name)\n",
    "print(obj._add)\n",
    "print(obj._age)"
   ]
  },
  {
   "cell_type": "code",
   "execution_count": 4,
   "id": "9897e20a",
   "metadata": {},
   "outputs": [
    {
     "ename": "AttributeError",
     "evalue": "'info' object has no attribute '__name'",
     "output_type": "error",
     "traceback": [
      "\u001b[1;31m---------------------------------------------------------------------------\u001b[0m",
      "\u001b[1;31mAttributeError\u001b[0m                            Traceback (most recent call last)",
      "Input \u001b[1;32mIn [4]\u001b[0m, in \u001b[0;36m<cell line: 9>\u001b[1;34m()\u001b[0m\n\u001b[0;32m      6\u001b[0m         \u001b[38;5;28mself\u001b[39m\u001b[38;5;241m.\u001b[39m__age \u001b[38;5;241m=\u001b[39m \u001b[38;5;241m20\u001b[39m\n\u001b[0;32m      8\u001b[0m obj \u001b[38;5;241m=\u001b[39m info()\n\u001b[1;32m----> 9\u001b[0m \u001b[38;5;28mprint\u001b[39m(\u001b[43mobj\u001b[49m\u001b[38;5;241;43m.\u001b[39;49m\u001b[43m__name\u001b[49m)\n\u001b[0;32m     10\u001b[0m \u001b[38;5;28mprint\u001b[39m(obj\u001b[38;5;241m.\u001b[39m__add)\n\u001b[0;32m     11\u001b[0m \u001b[38;5;28mprint\u001b[39m(obj\u001b[38;5;241m.\u001b[39m__age)\n",
      "\u001b[1;31mAttributeError\u001b[0m: 'info' object has no attribute '__name'"
     ]
    }
   ],
   "source": [
    "#private members\n",
    "class info:\n",
    "    def __init__ (self):\n",
    "        self.__name = \"Ram\"\n",
    "        self.__add = \"KTM\"\n",
    "        self.__age = 20\n",
    "        \n",
    "obj = info()\n",
    "print(obj.__name)\n",
    "print(obj.__add)\n",
    "print(obj.__age)"
   ]
  },
  {
   "cell_type": "code",
   "execution_count": 7,
   "id": "90e2315a",
   "metadata": {},
   "outputs": [
    {
     "name": "stdout",
     "output_type": "stream",
     "text": [
      "enter name = RAM\n",
      "enter age = 20\n",
      "Hello World I am RAM.\n",
      "I am 20\n"
     ]
    }
   ],
   "source": [
    "class A:\n",
    "    def __init__(self,name,age):\n",
    "        self.name = name\n",
    "        self.__age = age\n",
    "    def a(self):\n",
    "        print(f\"I am {self.__age}\")\n",
    "            \n",
    "class B(A):\n",
    "    def info(self):\n",
    "        print(f\"Hello World I am {self.name}.\")\n",
    "\n",
    "name = input(\"enter name = \")\n",
    "age = int(input(\"enter age = \"))\n",
    "\n",
    "obj = B(name,age)\n",
    "obj.info()\n",
    "obj.a()"
   ]
  },
  {
   "cell_type": "code",
   "execution_count": 10,
   "id": "22b08fe9",
   "metadata": {},
   "outputs": [
    {
     "name": "stdout",
     "output_type": "stream",
     "text": [
      "enter name = RAM\n",
      "enter age = 20\n",
      "enter add = KTM\n",
      "Hello World I am RAM. I am from KTM\n",
      "I am 20\n"
     ]
    }
   ],
   "source": [
    "class A:\n",
    "    def __init__(self,name,age,add):\n",
    "        self.name = name\n",
    "        self._add = add\n",
    "        self.__age = age\n",
    "    def a(self):\n",
    "        print(f\"I am {self.__age}\")\n",
    "            \n",
    "class B(A):\n",
    "    def info(self):\n",
    "        print(f\"Hello World I am {self.name}. I am from {Self._add}\")\n",
    "\n",
    "name = input(\"enter name = \")\n",
    "age = int(input(\"enter age = \"))\n",
    "add = input(\"enter add = \")\n",
    "\n",
    "obj = B(name,age,add)\n",
    "obj.info()\n",
    "obj.a()"
   ]
  },
  {
   "cell_type": "code",
   "execution_count": 11,
   "id": "16e54240",
   "metadata": {},
   "outputs": [
    {
     "name": "stdout",
     "output_type": "stream",
     "text": [
      "enter name = RAM\n",
      "enter age = 25\n",
      "enter add = KTM\n",
      "Hello World I am RAM. I am 25.I am from KTM\n"
     ]
    }
   ],
   "source": [
    "class A:\n",
    "    def __init__(self,age):\n",
    "        self._age = age\n",
    "        \n",
    "class B(A):\n",
    "    def __init__ (self,age,add):\n",
    "        self._add = add\n",
    "        A.__init__(self,age)\n",
    "        \n",
    "class C(B):\n",
    "    def __init__(self,name,age,add):\n",
    "        self.__name = name\n",
    "        B.__init__(self,age,add)\n",
    "\n",
    "    def info(self):\n",
    "        print(f\"Hello World I am {self.__name}. I am {self._age}.I am from {self._add}\")\n",
    "\n",
    "name = input(\"enter name = \")\n",
    "age = int(input(\"enter age = \"))\n",
    "add = input(\"enter add = \")\n",
    "\n",
    "obj = C(name,age,add)\n",
    "obj.info()"
   ]
  },
  {
   "cell_type": "code",
   "execution_count": 13,
   "id": "366a4ada",
   "metadata": {},
   "outputs": [
    {
     "name": "stdout",
     "output_type": "stream",
     "text": [
      "enter name = RAM\n",
      "enter age = 20\n",
      "enter add = ktm\n",
      "Hello World I am RAM. I am 20.\n",
      "I am from ktm\n"
     ]
    }
   ],
   "source": [
    "class A:\n",
    "    def __init__(self,age):\n",
    "        self.age = age\n",
    "        \n",
    "class B():\n",
    "    def __init__ (self,add):\n",
    "        self.__add = add\n",
    "    def a(self):\n",
    "        print(f\"I am from {self.__add}\")\n",
    "        \n",
    "class C(A,B):\n",
    "    def __init__(self,name,age,add):\n",
    "        self._name = name\n",
    "        A.__init__(self,age)\n",
    "        B.__init__(self,add)\n",
    "\n",
    "\n",
    "    def info(self):\n",
    "        print(f\"Hello World I am {self._name}. I am {self.age}.\")\n",
    "\n",
    "name = input(\"enter name = \")\n",
    "age = int(input(\"enter age = \"))\n",
    "add = input(\"enter add = \")\n",
    "\n",
    "obj = C(name,age,add)\n",
    "obj.info()\n",
    "obj.a()"
   ]
  },
  {
   "cell_type": "code",
   "execution_count": 16,
   "id": "aaad76a3",
   "metadata": {},
   "outputs": [
    {
     "name": "stdout",
     "output_type": "stream",
     "text": [
      "enter name = RAM\n",
      "enter age = 25\n",
      "enter add = KTM\n",
      "enter phone = 9845454655\n",
      "Hello World I am RAM. I am 25.\n",
      "I am from KTM\n",
      "My contact number is 9845454655\n"
     ]
    }
   ],
   "source": [
    "class A:\n",
    "    def __init__(self,age,phone):\n",
    "        self.age = age\n",
    "        self.__phone  = phone\n",
    "    def b(self):\n",
    "        print(f\"My contact number is {self.__phone}\")\n",
    "        \n",
    "class B():\n",
    "    def __init__ (self,add):\n",
    "        self.__add = add\n",
    "    def a(self):\n",
    "        print(f\"I am from {self.__add}\")\n",
    "        \n",
    "class C(A,B):\n",
    "    def __init__(self,name,age,add):\n",
    "        self._name = name\n",
    "        A.__init__(self,age,phone)\n",
    "        B.__init__(self,add)\n",
    "\n",
    "\n",
    "    def info(self):\n",
    "        print(f\"Hello World I am {self._name}. I am {self.age}.\")\n",
    "\n",
    "name = input(\"enter name = \")\n",
    "age = int(input(\"enter age = \"))\n",
    "add = input(\"enter add = \")\n",
    "phone = int(input(\"enter phone = \"))\n",
    "\n",
    "obj = C(name,age,add)\n",
    "obj.info()\n",
    "obj.a()\n",
    "obj.b()"
   ]
  },
  {
   "cell_type": "code",
   "execution_count": 15,
   "id": "dd2f08ff",
   "metadata": {},
   "outputs": [
    {
     "name": "stdout",
     "output_type": "stream",
     "text": [
      "enter name = RAM\n",
      "enter age = 20\n",
      "enter add = KTM\n",
      "enter phone = 984554646\n",
      "Hello World I am RAM. I am 20. My contact number is 984554646\n",
      "I am from KTM\n"
     ]
    }
   ],
   "source": [
    "class A:\n",
    "    def __init__(self,age,phone):\n",
    "        self.age = age\n",
    "        self.__phone  = phone\n",
    "    def b(self):\n",
    "        return self.__phone\n",
    "class B():\n",
    "    def __init__ (self,add):\n",
    "        self.__add = add\n",
    "    def a(self):\n",
    "        print(f\"I am from {self.__add}\")\n",
    "        \n",
    "class C(A,B):\n",
    "    def __init__(self,name,age,add):\n",
    "        self._name = name\n",
    "        A.__init__(self,age,phone)\n",
    "        B.__init__(self,add)\n",
    "\n",
    "\n",
    "    def info(self):\n",
    "        print(f\"Hello World I am {self._name}. I am {self.age}. My contact number is {super().b()}\")\n",
    "\n",
    "name = input(\"enter name = \")\n",
    "age = int(input(\"enter age = \"))\n",
    "add = input(\"enter add = \")\n",
    "phone = int(input(\"enter phone = \"))\n",
    "\n",
    "obj = C(name,age,add)\n",
    "obj.info()\n",
    "obj.a()"
   ]
  },
  {
   "cell_type": "code",
   "execution_count": 19,
   "id": "d2b1782b",
   "metadata": {},
   "outputs": [
    {
     "name": "stdout",
     "output_type": "stream",
     "text": [
      "enter name = RAm\n",
      "enter age = 25\n",
      "enter add = kTM\n",
      "enter phone = 9845254555\n",
      "Hello World I am RAm. I am 25. My contact number is 9845254555. I am from kTM.\n"
     ]
    }
   ],
   "source": [
    "class A:\n",
    "    def __init__(self,age,phone):\n",
    "        self.age = age\n",
    "        self.__phone  = phone\n",
    "    def b(self):\n",
    "        return self.__phone\n",
    "class B():\n",
    "    def __init__ (self,add):\n",
    "        self.__add = add\n",
    "    def a(self):\n",
    "        return self.__add\n",
    "        \n",
    "class C(A,B):\n",
    "    def __init__(self,name,age,add):\n",
    "        self._name = name\n",
    "        A.__init__(self,age,phone)\n",
    "        B.__init__(self,add)\n",
    "\n",
    "\n",
    "    def info(self):\n",
    "        print(f\"Hello World I am {self._name}. I am {self.age}. My contact number is {super().b()}. I am from {super().a()}.\")\n",
    "\n",
    "name = input(\"enter name = \")\n",
    "age = int(input(\"enter age = \"))\n",
    "add = input(\"enter add = \")\n",
    "phone = int(input(\"enter phone = \"))\n",
    "\n",
    "obj = C(name,age,add)\n",
    "obj.info()"
   ]
  },
  {
   "cell_type": "code",
   "execution_count": null,
   "id": "31b39427",
   "metadata": {},
   "outputs": [],
   "source": []
  },
  {
   "cell_type": "code",
   "execution_count": null,
   "id": "3707cb6f",
   "metadata": {},
   "outputs": [],
   "source": []
  },
  {
   "cell_type": "code",
   "execution_count": null,
   "id": "4e3c859c",
   "metadata": {},
   "outputs": [],
   "source": []
  },
  {
   "cell_type": "code",
   "execution_count": null,
   "id": "68c5aaac",
   "metadata": {},
   "outputs": [],
   "source": []
  }
 ],
 "metadata": {
  "kernelspec": {
   "display_name": "Python 3 (ipykernel)",
   "language": "python",
   "name": "python3"
  },
  "language_info": {
   "codemirror_mode": {
    "name": "ipython",
    "version": 3
   },
   "file_extension": ".py",
   "mimetype": "text/x-python",
   "name": "python",
   "nbconvert_exporter": "python",
   "pygments_lexer": "ipython3",
   "version": "3.10.5"
  }
 },
 "nbformat": 4,
 "nbformat_minor": 5
}
