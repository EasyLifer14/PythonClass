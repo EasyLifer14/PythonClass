{
 "cells": [
  {
   "cell_type": "code",
   "execution_count": 2,
   "id": "82487376",
   "metadata": {},
   "outputs": [
    {
     "name": "stdout",
     "output_type": "stream",
     "text": [
      "hello world\n"
     ]
    }
   ],
   "source": [
    "print(\"hello world\")"
   ]
  },
  {
   "cell_type": "code",
   "execution_count": null,
   "id": "8f296009",
   "metadata": {},
   "outputs": [],
   "source": [
    "a = 10\n"
   ]
  },
  {
   "cell_type": "code",
   "execution_count": null,
   "id": "3e298075",
   "metadata": {},
   "outputs": [],
   "source": [
    "#if <condition>:\n",
    "    <operations>\n",
    "elif<condition>:\n",
    "    <operations>\n",
    "...\n",
    "else:\n",
    "    <operations>\n"
   ]
  },
  {
   "cell_type": "code",
   "execution_count": null,
   "id": "93a444f6",
   "metadata": {},
   "outputs": [],
   "source": [
    "#< > <= >= != =="
   ]
  },
  {
   "cell_type": "code",
   "execution_count": 4,
   "id": "8419c837",
   "metadata": {},
   "outputs": [
    {
     "data": {
      "text/plain": [
       "True"
      ]
     },
     "execution_count": 4,
     "metadata": {},
     "output_type": "execute_result"
    }
   ],
   "source": [
    "a = 10\n",
    "b = 12\n",
    "a<b"
   ]
  },
  {
   "cell_type": "code",
   "execution_count": 1,
   "id": "e5bc5a64",
   "metadata": {},
   "outputs": [
    {
     "name": "stdout",
     "output_type": "stream",
     "text": [
      "enter a = 12\n",
      "a is greater\n"
     ]
    }
   ],
   "source": [
    "n = 10\n",
    "a = int(input(\"enter a = \"))\n",
    "if a>n:\n",
    "    print(\"a is greater\")\n",
    "else:\n",
    "    print(\"a is smaller\")"
   ]
  },
  {
   "cell_type": "code",
   "execution_count": 2,
   "id": "1214cb85",
   "metadata": {},
   "outputs": [
    {
     "name": "stdout",
     "output_type": "stream",
     "text": [
      "enter a = 9\n",
      "a is smaller\n"
     ]
    }
   ],
   "source": [
    "n = 10\n",
    "a = int(input(\"enter a = \"))\n",
    "if a>n:\n",
    "    print(\"a is greater\")\n",
    "else:\n",
    "    print(\"a is smaller\")"
   ]
  },
  {
   "cell_type": "code",
   "execution_count": 3,
   "id": "9c517b06",
   "metadata": {},
   "outputs": [
    {
     "name": "stdout",
     "output_type": "stream",
     "text": [
      "enter a = 10\n",
      "a is smaller\n"
     ]
    }
   ],
   "source": [
    "n = 10\n",
    "a = int(input(\"enter a = \"))\n",
    "if a>n:\n",
    "    print(\"a is greater\")\n",
    "else:\n",
    "    print(\"a is smaller\")"
   ]
  },
  {
   "cell_type": "code",
   "execution_count": 6,
   "id": "7f8cd690",
   "metadata": {},
   "outputs": [
    {
     "data": {
      "text/plain": [
       "False"
      ]
     },
     "execution_count": 6,
     "metadata": {},
     "output_type": "execute_result"
    }
   ],
   "source": [
    "10/2 == 0"
   ]
  },
  {
   "cell_type": "code",
   "execution_count": 8,
   "id": "a13dcd38",
   "metadata": {},
   "outputs": [
    {
     "name": "stdout",
     "output_type": "stream",
     "text": [
      "enter n = 11\n",
      "11 is odd number\n"
     ]
    }
   ],
   "source": [
    "n  = int(input(\"enter n = \"))\n",
    "if n%2 == 0:\n",
    "    print(n,\"is even number\")\n",
    "else:\n",
    "    print(n, \"is odd number\")"
   ]
  },
  {
   "cell_type": "code",
   "execution_count": 9,
   "id": "3661d346",
   "metadata": {},
   "outputs": [
    {
     "name": "stdout",
     "output_type": "stream",
     "text": [
      "Enter n = 20\n",
      "enter a = 15\n",
      "n is greater\n"
     ]
    }
   ],
   "source": [
    "n = int(input(\"Enter n = \"))\n",
    "a = int(input(\"enter a = \"))\n",
    "if a>n:\n",
    "    print(\"a is greater\")\n",
    "elif n>a:\n",
    "    print(\"n is greater\") \n",
    "else:\n",
    "    print(\"a and n are equal\")"
   ]
  },
  {
   "cell_type": "code",
   "execution_count": 10,
   "id": "b0440d1f",
   "metadata": {},
   "outputs": [
    {
     "name": "stdout",
     "output_type": "stream",
     "text": [
      "Enter n = 10\n",
      "enter a = 10\n",
      "a and n are equal\n"
     ]
    }
   ],
   "source": [
    "n = int(input(\"Enter n = \"))\n",
    "a = int(input(\"enter a = \"))\n",
    "if a>n:\n",
    "    print(\"a is greater\")\n",
    "elif n>a:\n",
    "    print(\"n is greater\") \n",
    "else:\n",
    "    print(\"a and n are equal\")"
   ]
  },
  {
   "cell_type": "code",
   "execution_count": 14,
   "id": "cbe55e4c",
   "metadata": {},
   "outputs": [
    {
     "name": "stdout",
     "output_type": "stream",
     "text": [
      "enter physics marks = 70\n",
      "enter chemistry marks = 80\n",
      "enter math marks = 90\n",
      "enter english marks = 60\n",
      "total-> 300\n",
      "per-> 75.0\n",
      "grade-> B\n"
     ]
    }
   ],
   "source": [
    "physics = int(input(\"enter physics marks = \"))\n",
    "chemistry = int(input(\"enter chemistry marks = \"))\n",
    "math = int(input(\"enter math marks = \"))\n",
    "english = int(input(\"enter english marks = \"))\n",
    "\n",
    "total = physics+chemistry+math+english\n",
    "per = total/4\n",
    "\n",
    "if per >= 80:\n",
    "    grade = \"A\"\n",
    "elif per >=70:\n",
    "    grade =\"B\"\n",
    "elif per >=60:\n",
    "    grade = \"C\"\n",
    "else:\n",
    "    grade = \"F\"\n",
    "    \n",
    "print(\"total->\",total)\n",
    "print(\"per->\",per)\n",
    "print(\"grade->\",grade)"
   ]
  },
  {
   "cell_type": "code",
   "execution_count": 15,
   "id": "d6557d78",
   "metadata": {},
   "outputs": [
    {
     "name": "stdout",
     "output_type": "stream",
     "text": [
      "enter physics marks = 60\n",
      "enter chemistry marks = 40\n",
      "enter math marks = 40\n",
      "enter english marks = 50\n",
      "total 190\n",
      "per 47.5\n",
      "grade F\n"
     ]
    }
   ],
   "source": [
    "physics = int(input(\"enter physics marks = \"))\n",
    "chemistry = int(input(\"enter chemistry marks = \"))\n",
    "math = int(input(\"enter math marks = \"))\n",
    "english = int(input(\"enter english marks = \"))\n",
    "\n",
    "total = physics+chemistry+math+english\n",
    "per = total/4\n",
    "\n",
    "if per >= 80:\n",
    "    grade = \"A\"\n",
    "elif per >=70:\n",
    "    grade =\"B\"\n",
    "elif per >=60:\n",
    "    grade = \"C\"\n",
    "else:\n",
    "    grade = \"F\"\n",
    "    \n",
    "print(\"total\",total)\n",
    "print(\"per\",per)\n",
    "print(\"grade\",grade)"
   ]
  },
  {
   "cell_type": "code",
   "execution_count": 17,
   "id": "541c653f",
   "metadata": {},
   "outputs": [
    {
     "name": "stdout",
     "output_type": "stream",
     "text": [
      "enter a = 25\n",
      "enter b = 5\n",
      "enter + - * //\n",
      "5.0\n"
     ]
    }
   ],
   "source": [
    "#+ - * / \n",
    "a = int(input(\"enter a = \"))\n",
    "b = int(input(\"enter b = \"))\n",
    "o = input(\"enter + - * /\")\n",
    "if o =='+':\n",
    "    print(a+b)\n",
    "elif o == '-':\n",
    "    print(a-b)\n",
    "elif o == '*':\n",
    "    print(a*b)\n",
    "elif o =='/':\n",
    "    print(a/b)\n",
    "else:\n",
    "    print('invalid operator')"
   ]
  },
  {
   "cell_type": "code",
   "execution_count": 18,
   "id": "e2f1eceb",
   "metadata": {},
   "outputs": [
    {
     "name": "stdout",
     "output_type": "stream",
     "text": [
      "enter a = 20\n",
      "enter b = 10\n",
      "enter + - * /%\n",
      "invalid operator\n"
     ]
    }
   ],
   "source": [
    "#+ - * / \n",
    "a = int(input(\"enter a = \"))\n",
    "b = int(input(\"enter b = \"))\n",
    "o = input(\"enter + - * /\")\n",
    "if o =='+':\n",
    "    print(a+b)\n",
    "elif o == '-':\n",
    "    print(a-b)\n",
    "elif o == '*':\n",
    "    print(a*b)\n",
    "elif o =='/':\n",
    "    print(a/b)\n",
    "else:\n",
    "    print('invalid operator')"
   ]
  },
  {
   "cell_type": "code",
   "execution_count": 21,
   "id": "52f53507",
   "metadata": {},
   "outputs": [
    {
     "name": "stdout",
     "output_type": "stream",
     "text": [
      "enter a = 10\n",
      "enter b = 0\n",
      "enter + - * //\n"
     ]
    },
    {
     "ename": "ZeroDivisionError",
     "evalue": "division by zero",
     "output_type": "error",
     "traceback": [
      "\u001b[1;31m---------------------------------------------------------------------------\u001b[0m",
      "\u001b[1;31mZeroDivisionError\u001b[0m                         Traceback (most recent call last)",
      "Input \u001b[1;32mIn [21]\u001b[0m, in \u001b[0;36m<cell line: 5>\u001b[1;34m()\u001b[0m\n\u001b[0;32m     10\u001b[0m     \u001b[38;5;28mprint\u001b[39m(a\u001b[38;5;241m*\u001b[39mb)\n\u001b[0;32m     11\u001b[0m \u001b[38;5;28;01melif\u001b[39;00m o \u001b[38;5;241m==\u001b[39m\u001b[38;5;124m'\u001b[39m\u001b[38;5;124m/\u001b[39m\u001b[38;5;124m'\u001b[39m:\n\u001b[1;32m---> 12\u001b[0m     \u001b[38;5;28mprint\u001b[39m(\u001b[43ma\u001b[49m\u001b[38;5;241;43m/\u001b[39;49m\u001b[43mb\u001b[49m)\n\u001b[0;32m     13\u001b[0m \u001b[38;5;28;01melse\u001b[39;00m:\n\u001b[0;32m     14\u001b[0m     \u001b[38;5;28mprint\u001b[39m(\u001b[38;5;124m'\u001b[39m\u001b[38;5;124minvalid operator\u001b[39m\u001b[38;5;124m'\u001b[39m)\n",
      "\u001b[1;31mZeroDivisionError\u001b[0m: division by zero"
     ]
    }
   ],
   "source": [
    "#+ - * / \n",
    "a = int(input(\"enter a = \"))\n",
    "b = int(input(\"enter b = \"))\n",
    "o = input(\"enter + - * /\")\n",
    "if o =='+':\n",
    "    print(a+b)\n",
    "elif o == '-':\n",
    "    print(a-b)\n",
    "elif o == '*':\n",
    "    print(a*b)\n",
    "elif o =='/':\n",
    "    print(a/b)\n",
    "else:\n",
    "    print('invalid operator')"
   ]
  },
  {
   "cell_type": "code",
   "execution_count": 22,
   "id": "e6c22226",
   "metadata": {},
   "outputs": [
    {
     "data": {
      "text/plain": [
       "1"
      ]
     },
     "execution_count": 22,
     "metadata": {},
     "output_type": "execute_result"
    }
   ],
   "source": [
    "True + False"
   ]
  },
  {
   "cell_type": "code",
   "execution_count": null,
   "id": "428c3e94",
   "metadata": {},
   "outputs": [],
   "source": [
    "and - > &\n",
    "1*0 = 0\n",
    "0*1 = 0\n",
    "0*0 = 0\n",
    "1*1 = 1"
   ]
  },
  {
   "cell_type": "code",
   "execution_count": null,
   "id": "d4c2fd6e",
   "metadata": {},
   "outputs": [],
   "source": [
    "or - > &\n",
    "1+0 = 1\n",
    "0+1 = 1\n",
    "0+0 = 0\n",
    "1+1 = 1"
   ]
  },
  {
   "cell_type": "code",
   "execution_count": 24,
   "id": "f6335f17",
   "metadata": {},
   "outputs": [
    {
     "data": {
      "text/plain": [
       "False"
      ]
     },
     "execution_count": 24,
     "metadata": {},
     "output_type": "execute_result"
    }
   ],
   "source": [
    "True and False"
   ]
  },
  {
   "cell_type": "code",
   "execution_count": 25,
   "id": "719ca9a0",
   "metadata": {},
   "outputs": [
    {
     "data": {
      "text/plain": [
       "True"
      ]
     },
     "execution_count": 25,
     "metadata": {},
     "output_type": "execute_result"
    }
   ],
   "source": [
    "True or False"
   ]
  },
  {
   "cell_type": "code",
   "execution_count": 28,
   "id": "41e4c059",
   "metadata": {},
   "outputs": [
    {
     "name": "stdout",
     "output_type": "stream",
     "text": [
      "enter a = 10\n",
      "enter b = 0\n",
      "enter + - * //\n",
      "The value of b cannot be zero\n"
     ]
    }
   ],
   "source": [
    "#+ - * / \n",
    "a = int(input(\"enter a = \"))\n",
    "b = int(input(\"enter b = \"))\n",
    "o = input(\"enter + - * /\")\n",
    "if o =='+':\n",
    "    print(a+b)\n",
    "elif o == '-':\n",
    "    print(a-b)\n",
    "elif o == '*':\n",
    "    print(a*b)\n",
    "elif o =='/'and b != 0:\n",
    "    print(a/b)\n",
    "elif o =='/'and b == 0:\n",
    "    print(\"The value of b cannot be zero\")\n",
    "\n",
    "else:\n",
    "    print('invalid operator')"
   ]
  },
  {
   "cell_type": "code",
   "execution_count": 31,
   "id": "ae6049be",
   "metadata": {},
   "outputs": [
    {
     "name": "stdout",
     "output_type": "stream",
     "text": [
      "enter a = 10\n",
      "enter b = 0\n",
      "enter + - * //\n",
      "The value of b cannot be zero\n"
     ]
    }
   ],
   "source": [
    "#+ - * / \n",
    "a = int(input(\"enter a = \"))\n",
    "b = int(input(\"enter b = \"))\n",
    "o = input(\"enter + - * /\")\n",
    "if o =='+':\n",
    "    print(a+b)\n",
    "elif o == '-':\n",
    "    print(a-b)\n",
    "elif o == '*':\n",
    "    print(a*b)\n",
    "elif o =='/' and b != 0:\n",
    "    print(a/b)\n",
    "elif o =='/'and b == 0:\n",
    "    print(\"The value of b cannot be zero\")\n",
    "\n",
    "else:\n",
    "    print('invalid operator')"
   ]
  },
  {
   "cell_type": "code",
   "execution_count": null,
   "id": "aded8823",
   "metadata": {},
   "outputs": [],
   "source": [
    "if <condition>:\n",
    "    if<condition>:\n",
    "        <operations>\n",
    "    elif<condition>:\n",
    "        <operations>\n",
    "    else:\n",
    "        <operations>\n",
    "else:\n",
    "    <operations>"
   ]
  },
  {
   "cell_type": "code",
   "execution_count": null,
   "id": "43c08944",
   "metadata": {},
   "outputs": [],
   "source": [
    "#for\n",
    "#while"
   ]
  },
  {
   "cell_type": "code",
   "execution_count": null,
   "id": "ea040ac6",
   "metadata": {},
   "outputs": [],
   "source": [
    "range(5) 0,1,2,3,4\n",
    "range(1,5) 1,2,3,4\n",
    "range(1,5,2) 1,3"
   ]
  },
  {
   "cell_type": "code",
   "execution_count": 1,
   "id": "32993ff6",
   "metadata": {},
   "outputs": [
    {
     "name": "stdout",
     "output_type": "stream",
     "text": [
      "0\n",
      "1\n",
      "2\n",
      "3\n",
      "4\n"
     ]
    }
   ],
   "source": [
    "for i in range(5):\n",
    "    print(i)"
   ]
  },
  {
   "cell_type": "code",
   "execution_count": 4,
   "id": "aa22e11c",
   "metadata": {},
   "outputs": [
    {
     "name": "stdout",
     "output_type": "stream",
     "text": [
      "1\n",
      "2\n",
      "3\n",
      "4\n"
     ]
    }
   ],
   "source": [
    "for i in range(1,5):\n",
    "    print(i)"
   ]
  },
  {
   "cell_type": "code",
   "execution_count": 5,
   "id": "6a9e3d4e",
   "metadata": {},
   "outputs": [
    {
     "name": "stdout",
     "output_type": "stream",
     "text": [
      "1\n",
      "6\n"
     ]
    }
   ],
   "source": [
    "for i in range(1,10,5):\n",
    "    print(i)"
   ]
  },
  {
   "cell_type": "code",
   "execution_count": 6,
   "id": "4bd1cb29",
   "metadata": {},
   "outputs": [
    {
     "name": "stdout",
     "output_type": "stream",
     "text": [
      "1\n",
      "3\n",
      "5\n",
      "7\n",
      "9\n"
     ]
    }
   ],
   "source": [
    "for i in range(1,10,2):\n",
    "    print(i)"
   ]
  },
  {
   "cell_type": "code",
   "execution_count": 7,
   "id": "9f395881",
   "metadata": {},
   "outputs": [
    {
     "name": "stdout",
     "output_type": "stream",
     "text": [
      "hello world\n",
      "hello world\n",
      "hello world\n",
      "hello world\n",
      "hello world\n"
     ]
    }
   ],
   "source": [
    "for i in range(5):\n",
    "    print('hello world')"
   ]
  },
  {
   "cell_type": "code",
   "execution_count": 8,
   "id": "e2ac9e08",
   "metadata": {},
   "outputs": [
    {
     "name": "stdout",
     "output_type": "stream",
     "text": [
      "0 hello world\n",
      "1 hello world\n",
      "2 hello world\n",
      "3 hello world\n",
      "4 hello world\n"
     ]
    }
   ],
   "source": [
    "for i in range(5):\n",
    "    print(i, 'hello world')"
   ]
  },
  {
   "cell_type": "code",
   "execution_count": 10,
   "id": "08166e5e",
   "metadata": {},
   "outputs": [
    {
     "name": "stdout",
     "output_type": "stream",
     "text": [
      "5\n",
      "10\n",
      "15\n",
      "20\n",
      "25\n",
      "30\n",
      "35\n",
      "40\n",
      "45\n",
      "50\n"
     ]
    }
   ],
   "source": [
    "for i in range(1,11):\n",
    "    print(5*i)"
   ]
  },
  {
   "cell_type": "code",
   "execution_count": 13,
   "id": "69ecb334",
   "metadata": {},
   "outputs": [
    {
     "name": "stdout",
     "output_type": "stream",
     "text": [
      "enter n = 10\n",
      "10 * 1 = 10\n",
      "10 * 2 = 20\n",
      "10 * 3 = 30\n",
      "10 * 4 = 40\n",
      "10 * 5 = 50\n",
      "10 * 6 = 60\n",
      "10 * 7 = 70\n",
      "10 * 8 = 80\n",
      "10 * 9 = 90\n",
      "10 * 10 = 100\n"
     ]
    }
   ],
   "source": [
    "n = int(input(\"enter n = \"))\n",
    "for i in range(1,11):\n",
    "    print(n,\"*\",i,\"=\",n*i)"
   ]
  },
  {
   "cell_type": "code",
   "execution_count": 14,
   "id": "8c490977",
   "metadata": {},
   "outputs": [
    {
     "name": "stdout",
     "output_type": "stream",
     "text": [
      "enter x = 25\n",
      "25\n",
      "enter x = 22\n",
      "22\n"
     ]
    }
   ],
   "source": [
    "for i in range(2):\n",
    "    x = int(input(\"enter x = \"))\n",
    "    print(x)"
   ]
  },
  {
   "cell_type": "code",
   "execution_count": 1,
   "id": "2f656478",
   "metadata": {},
   "outputs": [
    {
     "name": "stdout",
     "output_type": "stream",
     "text": [
      "enter n = 2\n",
      "enter x = 12\n",
      "enter x = 14\n",
      "26\n"
     ]
    }
   ],
   "source": [
    "s = 0\n",
    "n = int(input(\"enter n = \"))\n",
    "for i in range(n):\n",
    "    x = int(input('enter x = '))\n",
    "    s = s+x\n",
    "    \n",
    "print(s)"
   ]
  },
  {
   "cell_type": "code",
   "execution_count": 2,
   "id": "49aa5267",
   "metadata": {},
   "outputs": [
    {
     "name": "stdout",
     "output_type": "stream",
     "text": [
      "enter n = 2\n",
      "enter x = 5\n",
      "enter x = 10\n",
      "10\n"
     ]
    }
   ],
   "source": [
    "s = 0\n",
    "n = int(input(\"enter n = \"))\n",
    "for i in range(n):\n",
    "    x = int(input('enter x = '))\n",
    "    \n",
    "print(x)"
   ]
  },
  {
   "cell_type": "code",
   "execution_count": 3,
   "id": "5fd08207",
   "metadata": {},
   "outputs": [
    {
     "name": "stdout",
     "output_type": "stream",
     "text": [
      "enter n = 2\n",
      "enter x = 5\n",
      "enter x = 5\n",
      "10\n"
     ]
    }
   ],
   "source": [
    "n = int(input(\"enter n = \"))\n",
    "for i in range(n):\n",
    "    x = int(input('enter x = '))\n",
    "    s = s+x\n",
    "    \n",
    "print(s)"
   ]
  },
  {
   "cell_type": "code",
   "execution_count": 8,
   "id": "263ae4e4",
   "metadata": {},
   "outputs": [
    {
     "name": "stdout",
     "output_type": "stream",
     "text": [
      "enter n = 3\n",
      "enter x = ram\n",
      "enter x = rajan\n",
      "enter x = shyam\n",
      "ram rajan shyam \n"
     ]
    }
   ],
   "source": [
    "s = str()\n",
    "n = int(input(\"enter n = \"))\n",
    "for i in range(n):\n",
    "    x = input('enter x = ')\n",
    "    s = s + x + \" \"\n",
    "    \n",
    "print(s)"
   ]
  },
  {
   "cell_type": "code",
   "execution_count": 2,
   "id": "b03d6a20",
   "metadata": {},
   "outputs": [
    {
     "name": "stdout",
     "output_type": "stream",
     "text": [
      "enter n = 2\n",
      "enter x = ram\n",
      "enter add = ktm\n",
      "enter phone = 98556546656\n",
      "enter x = shyam\n",
      "enter add = llt\n",
      "enter phone = 6565565445\n",
      "ram ktm 98556546656\n",
      "shyam llt 6565565445\n",
      "\n"
     ]
    }
   ],
   "source": [
    "s = str()\n",
    "n = int(input(\"enter n = \"))\n",
    "for i in range(n):\n",
    "    name = input('enter x = ')\n",
    "    add = input('enter add = ')\n",
    "    phone = int(input('enter phone = '))\n",
    "    s = s+name+\" \"+add+\" \"+str(phone)+\"\\n\"\n",
    "    \n",
    "print(s)"
   ]
  },
  {
   "cell_type": "code",
   "execution_count": 3,
   "id": "c9d6e19c",
   "metadata": {},
   "outputs": [
    {
     "name": "stdout",
     "output_type": "stream",
     "text": [
      "enter n = 3\n",
      "enter name = ram\n",
      "enter add = ktm\n",
      "enter phone = 54545545454\n",
      "enter name = ssham\n",
      "enter add = lit\n",
      "enter phone = 4545544554\n",
      "enter name = sita\n",
      "enter add = ktm\n",
      "enter phone = 5546664878787\n",
      "ram ktm 54545545454\n",
      "ssham lit 4545544554\n",
      "sita ktm 5546664878787\n",
      "\n"
     ]
    }
   ],
   "source": [
    "s = str()\n",
    "n = int(input(\"enter n = \"))\n",
    "for i in range(n):\n",
    "    name = input('enter name = ')\n",
    "    add = input('enter add = ')\n",
    "    phone = int(input('enter phone = '))\n",
    "    s = s+name+\" \"+add+\" \"+str(phone)+\"\\n\"\n",
    "    \n",
    "print(s)"
   ]
  },
  {
   "cell_type": "code",
   "execution_count": 4,
   "id": "fd7c05c7",
   "metadata": {},
   "outputs": [
    {
     "name": "stdout",
     "output_type": "stream",
     "text": [
      "ram ktm 54545545454\n",
      "ssham lit 4545544554\n",
      "sita ktm 5546664878787\n",
      "\n"
     ]
    }
   ],
   "source": [
    "print(s)"
   ]
  },
  {
   "cell_type": "code",
   "execution_count": 7,
   "id": "f4eff8c2",
   "metadata": {},
   "outputs": [
    {
     "name": "stdout",
     "output_type": "stream",
     "text": [
      "enter n = 5\n",
      "1\n",
      "2\n",
      "6\n",
      "24\n",
      "120\n"
     ]
    }
   ],
   "source": [
    "#4! = 1*2*3*4\n",
    "fac = 1\n",
    "n = int(input('enter n = '))\n",
    "for i in range(1,n+1):\n",
    "    fac = fac * i\n",
    "    print(fac)"
   ]
  },
  {
   "cell_type": "code",
   "execution_count": 9,
   "id": "227be7e9",
   "metadata": {},
   "outputs": [
    {
     "name": "stdout",
     "output_type": "stream",
     "text": [
      "1\n",
      "2\n",
      "3\n",
      "4\n",
      "5\n"
     ]
    }
   ],
   "source": [
    "for i in range(1,n+1):\n",
    "    print(i)"
   ]
  },
  {
   "cell_type": "code",
   "execution_count": 11,
   "id": "21085363",
   "metadata": {},
   "outputs": [
    {
     "name": "stdout",
     "output_type": "stream",
     "text": [
      "python\n"
     ]
    }
   ],
   "source": [
    "a = \"python\"\n",
    "print(a)"
   ]
  },
  {
   "cell_type": "code",
   "execution_count": 12,
   "id": "5e3ea655",
   "metadata": {},
   "outputs": [
    {
     "name": "stdout",
     "output_type": "stream",
     "text": [
      "p\n",
      "y\n",
      "t\n",
      "h\n",
      "o\n",
      "n\n"
     ]
    }
   ],
   "source": [
    "a = \"python\"\n",
    "for i in a:\n",
    "    print(i)"
   ]
  },
  {
   "cell_type": "code",
   "execution_count": 13,
   "id": "8eed3e77",
   "metadata": {},
   "outputs": [
    {
     "name": "stdout",
     "output_type": "stream",
     "text": [
      "p hello world\n",
      "y hello world\n",
      "t hello world\n",
      "h hello world\n",
      "o hello world\n",
      "n hello world\n"
     ]
    }
   ],
   "source": [
    "a = \"python\"\n",
    "for i in a:\n",
    "    print(i,'hello world')"
   ]
  },
  {
   "cell_type": "code",
   "execution_count": 16,
   "id": "7f15fa0a",
   "metadata": {},
   "outputs": [
    {
     "name": "stdout",
     "output_type": "stream",
     "text": [
      "pyth"
     ]
    }
   ],
   "source": [
    "a = \"python\"\n",
    "for i in range(4):\n",
    "    print(a[i],end = \"\")"
   ]
  },
  {
   "cell_type": "code",
   "execution_count": 20,
   "id": "0e12f6bb",
   "metadata": {},
   "outputs": [
    {
     "name": "stdout",
     "output_type": "stream",
     "text": [
      "python"
     ]
    }
   ],
   "source": [
    "a = \"python\"\n",
    "for i in range(len(a)):\n",
    "    print(a[i],end = \"\")"
   ]
  },
  {
   "cell_type": "code",
   "execution_count": 21,
   "id": "f03b7ef9",
   "metadata": {},
   "outputs": [
    {
     "name": "stdout",
     "output_type": "stream",
     "text": [
      "python"
     ]
    }
   ],
   "source": [
    "a = \"python\"\n",
    "for i in range(len(a)):\n",
    "    print(a[i],end = \"\")"
   ]
  },
  {
   "cell_type": "code",
   "execution_count": null,
   "id": "e128ef81",
   "metadata": {},
   "outputs": [],
   "source": []
  },
  {
   "cell_type": "code",
   "execution_count": null,
   "id": "052037d5",
   "metadata": {},
   "outputs": [],
   "source": []
  }
 ],
 "metadata": {
  "kernelspec": {
   "display_name": "Python 3 (ipykernel)",
   "language": "python",
   "name": "python3"
  },
  "language_info": {
   "codemirror_mode": {
    "name": "ipython",
    "version": 3
   },
   "file_extension": ".py",
   "mimetype": "text/x-python",
   "name": "python",
   "nbconvert_exporter": "python",
   "pygments_lexer": "ipython3",
   "version": "3.10.5"
  }
 },
 "nbformat": 4,
 "nbformat_minor": 5
}
