{
 "cells": [
  {
   "cell_type": "code",
   "execution_count": null,
   "id": "43c54f61",
   "metadata": {},
   "outputs": [],
   "source": [
    "#while loop\n",
    "#while <condition>:\n",
    "#   <operations>"
   ]
  },
  {
   "cell_type": "code",
   "execution_count": 3,
   "id": "e14fd557",
   "metadata": {},
   "outputs": [
    {
     "name": "stdout",
     "output_type": "stream",
     "text": [
      "enter x = Python\n",
      "You entered python\n"
     ]
    }
   ],
   "source": [
    "#while as if conditions\n",
    "x = input('enter x = ')\n",
    "while x =='Python':\n",
    "    print(\"You entered python\")\n",
    "    break\n",
    "else:\n",
    "    print(\"You entered another word\")"
   ]
  },
  {
   "cell_type": "code",
   "execution_count": 4,
   "id": "401a7ac5",
   "metadata": {},
   "outputs": [
    {
     "name": "stdout",
     "output_type": "stream",
     "text": [
      "enter x = rajan\n",
      "You entered another word\n"
     ]
    }
   ],
   "source": [
    "#while as if conditions\n",
    "x = input('enter x = ')\n",
    "while x =='Python':\n",
    "    print(\"You entered python\")\n",
    "    break\n",
    "else:\n",
    "    print(\"You entered another word\")"
   ]
  },
  {
   "cell_type": "code",
   "execution_count": 12,
   "id": "f5fc1425",
   "metadata": {},
   "outputs": [
    {
     "name": "stdout",
     "output_type": "stream",
     "text": [
      "enter n = 6\n",
      "enter x = 10\n",
      "15\n",
      "enter x = 20\n",
      "35\n"
     ]
    }
   ],
   "source": [
    "s = 5\n",
    "i = 5\n",
    "n = int(input(\"enter n = \"))\n",
    "while i<=n:\n",
    "    x = int(input(\"enter x = \"))\n",
    "    s = s+x\n",
    "    i = i+1\n",
    "    print(s)"
   ]
  },
  {
   "cell_type": "code",
   "execution_count": 13,
   "id": "3181c545",
   "metadata": {},
   "outputs": [
    {
     "name": "stdout",
     "output_type": "stream",
     "text": [
      "enter n = 1\n",
      "1\n"
     ]
    }
   ],
   "source": [
    "n = int(input(\"enter n = \"))\n",
    "fac = 1\n",
    "for i in range(1,n+1):\n",
    "    fac = fac*i\n",
    "    print(fac)"
   ]
  },
  {
   "cell_type": "code",
   "execution_count": 17,
   "id": "2a292586",
   "metadata": {},
   "outputs": [
    {
     "name": "stdout",
     "output_type": "stream",
     "text": [
      "enter n = 5\n",
      "1\n",
      "2\n",
      "6\n",
      "24\n",
      "120\n"
     ]
    }
   ],
   "source": [
    "n = int(input(\"enter n = \"))\n",
    "fac = 1\n",
    "i = 1\n",
    "while i<=n:\n",
    "    fac = fac*i\n",
    "    i = i+1\n",
    "    print(fac)"
   ]
  },
  {
   "cell_type": "code",
   "execution_count": null,
   "id": "15c32462",
   "metadata": {},
   "outputs": [],
   "source": []
  }
 ],
 "metadata": {
  "kernelspec": {
   "display_name": "Python 3 (ipykernel)",
   "language": "python",
   "name": "python3"
  },
  "language_info": {
   "codemirror_mode": {
    "name": "ipython",
    "version": 3
   },
   "file_extension": ".py",
   "mimetype": "text/x-python",
   "name": "python",
   "nbconvert_exporter": "python",
   "pygments_lexer": "ipython3",
   "version": "3.10.5"
  }
 },
 "nbformat": 4,
 "nbformat_minor": 5
}
