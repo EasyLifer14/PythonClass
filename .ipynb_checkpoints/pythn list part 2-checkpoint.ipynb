{
 "cells": [
  {
   "cell_type": "code",
   "execution_count": 6,
   "id": "fe79643c",
   "metadata": {},
   "outputs": [
    {
     "name": "stdout",
     "output_type": "stream",
     "text": [
      "[[1, 2, 3], [4.5, 6], [7, 8, 9]]\n"
     ]
    }
   ],
   "source": [
    "#list in side ways\n",
    "a = [[1,2,3],\n",
    "    [4.5,6],\n",
    "    [7,8,9]]\n",
    "print(a)\n",
    "\n"
   ]
  },
  {
   "cell_type": "code",
   "execution_count": 7,
   "id": "c1ae17d2",
   "metadata": {},
   "outputs": [
    {
     "name": "stdout",
     "output_type": "stream",
     "text": [
      "<class 'list'>\n"
     ]
    }
   ],
   "source": [
    "print(type(a))"
   ]
  },
  {
   "cell_type": "code",
   "execution_count": 10,
   "id": "07ecf04f",
   "metadata": {},
   "outputs": [
    {
     "data": {
      "text/plain": [
       "[7, 8, 9]"
      ]
     },
     "execution_count": 10,
     "metadata": {},
     "output_type": "execute_result"
    }
   ],
   "source": [
    "a[2]"
   ]
  },
  {
   "cell_type": "code",
   "execution_count": 11,
   "id": "78051e15",
   "metadata": {},
   "outputs": [],
   "source": [
    "a = [[1, 2, 3], [4.5, 6], [7, 8, 9]] "
   ]
  },
  {
   "cell_type": "code",
   "execution_count": 12,
   "id": "4ef58161",
   "metadata": {},
   "outputs": [
    {
     "name": "stdout",
     "output_type": "stream",
     "text": [
      "[1, 2, 3]\n"
     ]
    }
   ],
   "source": [
    "print(a[0])"
   ]
  },
  {
   "cell_type": "code",
   "execution_count": 13,
   "id": "5fe15656",
   "metadata": {},
   "outputs": [
    {
     "name": "stdout",
     "output_type": "stream",
     "text": [
      "3\n"
     ]
    }
   ],
   "source": [
    "print(a[0][2])"
   ]
  },
  {
   "cell_type": "code",
   "execution_count": 14,
   "id": "fae955ac",
   "metadata": {},
   "outputs": [],
   "source": [
    "a = [[\"ram\", 34, \"KTM\"],\n",
    "    [\"sita\", 23, \"BKT\"]]"
   ]
  },
  {
   "cell_type": "code",
   "execution_count": 15,
   "id": "67717c56",
   "metadata": {},
   "outputs": [
    {
     "data": {
      "text/plain": [
       "[['ram', 34, 'KTM'], ['sita', 23, 'BKT']]"
      ]
     },
     "execution_count": 15,
     "metadata": {},
     "output_type": "execute_result"
    }
   ],
   "source": [
    "a"
   ]
  },
  {
   "cell_type": "code",
   "execution_count": 18,
   "id": "820ae4d8",
   "metadata": {},
   "outputs": [
    {
     "name": "stdout",
     "output_type": "stream",
     "text": [
      "Enter n= 2\n",
      "Enter name = ram\n",
      "Enter age = 34\n",
      "Enter add = ktm\n",
      "[['ram', '34', 'ktm']]\n",
      "Enter name = sita\n",
      "Enter age = 23\n",
      "Enter add = bkt\n",
      "[['ram', '34', 'ktm'], ['sita', '23', 'bkt']]\n"
     ]
    }
   ],
   "source": [
    "a = []\n",
    "n = int(input(\"Enter n= \"))\n",
    "for i in range(n):\n",
    "    name = input(\"Enter name = \")\n",
    "    age = input(\"Enter age = \")\n",
    "    add = input(\"Enter add = \")\n",
    "    i = [name, age , add]\n",
    "    a.append(i)\n",
    "    \n",
    "    print(a)   "
   ]
  },
  {
   "cell_type": "code",
   "execution_count": 20,
   "id": "fb0358d7",
   "metadata": {},
   "outputs": [
    {
     "data": {
      "text/plain": [
       "['sita', '23', 'bkt']"
      ]
     },
     "execution_count": 20,
     "metadata": {},
     "output_type": "execute_result"
    }
   ],
   "source": [
    "a = [['ram', '34', 'ktm'], ['sita', '23', 'bkt']]\n",
    "a.pop(1)"
   ]
  },
  {
   "cell_type": "code",
   "execution_count": 23,
   "id": "64e85e9a",
   "metadata": {},
   "outputs": [
    {
     "ename": "SyntaxError",
     "evalue": "cannot delete function call (3917121335.py, line 2)",
     "output_type": "error",
     "traceback": [
      "\u001b[1;36m  Input \u001b[1;32mIn [23]\u001b[1;36m\u001b[0m\n\u001b[1;33m    del a(0)\u001b[0m\n\u001b[1;37m        ^\u001b[0m\n\u001b[1;31mSyntaxError\u001b[0m\u001b[1;31m:\u001b[0m cannot delete function call\n"
     ]
    }
   ],
   "source": [
    "a = [['ram', '34', 'ktm'], ['sita', '23', 'bkt']]\n",
    "del a(0)"
   ]
  },
  {
   "cell_type": "code",
   "execution_count": null,
   "id": "45664ce7",
   "metadata": {},
   "outputs": [],
   "source": [
    "del a(0)"
   ]
  }
 ],
 "metadata": {
  "kernelspec": {
   "display_name": "Python 3 (ipykernel)",
   "language": "python",
   "name": "python3"
  },
  "language_info": {
   "codemirror_mode": {
    "name": "ipython",
    "version": 3
   },
   "file_extension": ".py",
   "mimetype": "text/x-python",
   "name": "python",
   "nbconvert_exporter": "python",
   "pygments_lexer": "ipython3",
   "version": "3.10.5"
  }
 },
 "nbformat": 4,
 "nbformat_minor": 5
}
