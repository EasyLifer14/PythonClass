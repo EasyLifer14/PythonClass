{
 "cells": [
  {
   "cell_type": "code",
   "execution_count": null,
   "id": "aabd0e75",
   "metadata": {},
   "outputs": [],
   "source": [
    "#.csd ."
   ]
  },
  {
   "cell_type": "code",
   "execution_count": null,
   "id": "83ce6686",
   "metadata": {},
   "outputs": [],
   "source": [
    "file = open('<file name>','<mode>')\n",
    "#file.close()\n",
    "\n",
    "with  open('<file name','<mode>') as file:\n",
    "    <opratations>"
   ]
  },
  {
   "cell_type": "code",
   "execution_count": null,
   "id": "b1f4832d",
   "metadata": {},
   "outputs": [],
   "source": [
    "# modes\n",
    "# read -> 'r'\n",
    "#create -> 'x'\n",
    "#write -> 'w'\n",
    "#append -> 'a'"
   ]
  },
  {
   "cell_type": "code",
   "execution_count": 1,
   "id": "6ed652d6",
   "metadata": {},
   "outputs": [],
   "source": [
    "file = open('data.txt','x')\n",
    "file.close() #run 2 times makes error "
   ]
  },
  {
   "cell_type": "code",
   "execution_count": 2,
   "id": "e5c4f1d4",
   "metadata": {},
   "outputs": [
    {
     "name": "stdout",
     "output_type": "stream",
     "text": [
      "The file is already there\n"
     ]
    }
   ],
   "source": [
    "#error\n",
    "try:\n",
    "    file = open('data.txt','x')\n",
    "    file.close()\n",
    "except:\n",
    "    print('The file is already there')"
   ]
  },
  {
   "cell_type": "code",
   "execution_count": 4,
   "id": "158adc5a",
   "metadata": {},
   "outputs": [
    {
     "name": "stdout",
     "output_type": "stream",
     "text": [
      "1. Hello world\n",
      "2. Hello world\n",
      "3. Hello world\n",
      "4. Hello world\n",
      "5. Hello world\n",
      "6. Hello world\n",
      "7. Hello world\n"
     ]
    }
   ],
   "source": [
    "file = open('data.txt','r')\n",
    "x = file.read()\n",
    "print(x)\n",
    "file.close()"
   ]
  },
  {
   "cell_type": "code",
   "execution_count": 7,
   "id": "5b96c2b5",
   "metadata": {},
   "outputs": [
    {
     "name": "stdout",
     "output_type": "stream",
     "text": [
      "1. Hello world\n",
      "2. Hello world\n",
      "3. Hello world\n",
      "4. Hello world\n",
      "5. Hello world\n",
      "6. Hello world\n",
      "7. Hello world\n",
      "<class 'str'>\n"
     ]
    }
   ],
   "source": [
    "file = open('data.txt','r')\n",
    "x = file.read()\n",
    "print(x)\n",
    "print(type(x))\n",
    "file.close()"
   ]
  },
  {
   "cell_type": "code",
   "execution_count": 9,
   "id": "df299622",
   "metadata": {},
   "outputs": [
    {
     "data": {
      "text/plain": [
       "['1. Hello world',\n",
       " '2. Hello world',\n",
       " '3. Hello world',\n",
       " '4. Hello world',\n",
       " '5. Hello world',\n",
       " '6. Hello world',\n",
       " '7. Hello world']"
      ]
     },
     "execution_count": 9,
     "metadata": {},
     "output_type": "execute_result"
    }
   ],
   "source": [
    "y = x.split('\\n')\n",
    "y"
   ]
  },
  {
   "cell_type": "code",
   "execution_count": 11,
   "id": "c2dfe2f5",
   "metadata": {},
   "outputs": [
    {
     "data": {
      "text/plain": [
       "'5. Hello world'"
      ]
     },
     "execution_count": 11,
     "metadata": {},
     "output_type": "execute_result"
    }
   ],
   "source": [
    "y[4]"
   ]
  },
  {
   "cell_type": "code",
   "execution_count": 12,
   "id": "f1afde17",
   "metadata": {},
   "outputs": [],
   "source": [
    "file = open('data.txt','w')\n",
    "file.write('Hello world I am python')\n",
    "file.close()"
   ]
  },
  {
   "cell_type": "code",
   "execution_count": 18,
   "id": "60d54104",
   "metadata": {},
   "outputs": [
    {
     "name": "stdout",
     "output_type": "stream",
     "text": [
      "enter n = 2\n",
      "enter name = Apple\n",
      "enter price = 120\n",
      "enter quantity = 3\n",
      "enter name = Potato\n",
      "enter price = 100\n",
      "enter quantity = 12\n"
     ]
    }
   ],
   "source": [
    "bill = \"\" \n",
    "n = int(input('enter n = '))\n",
    "for i in range(n):\n",
    "    name = input('enter name = ')\n",
    "    price = int(input('enter price = '))\n",
    "    quantity = int(input('enter quantity = '))\n",
    "    total = price*quantity\n",
    "    bill = bill +f\"{name} {price} {quantity} {total}\\n\"\n",
    "    \n",
    "file = open('datas.txt','w')\n",
    "file.write(bill)\n",
    "file.close()"
   ]
  },
  {
   "cell_type": "code",
   "execution_count": 20,
   "id": "1f7f1368",
   "metadata": {},
   "outputs": [
    {
     "name": "stdout",
     "output_type": "stream",
     "text": [
      "enter n = 2\n",
      "enter name = Mango\n",
      "enter price = 100\n",
      "enter quantity = 20\n",
      "enter name = Pineapple\n",
      "enter price = 50\n",
      "enter quantity = 2\n"
     ]
    }
   ],
   "source": [
    "bill = \"\" \n",
    "n = int(input('enter n = '))\n",
    "for i in range(n):\n",
    "    name = input('enter name = ')\n",
    "    price = int(input('enter price = '))\n",
    "    quantity = int(input('enter quantity = '))\n",
    "    total = price*quantity\n",
    "    bill = bill +f\"\\n{name} {price} {quantity} {total}\\n\"\n",
    "    \n",
    "file = open('datas.txt','a')\n",
    "file.write(bill)\n",
    "file.close()"
   ]
  },
  {
   "cell_type": "code",
   "execution_count": 22,
   "id": "234da0ea",
   "metadata": {},
   "outputs": [
    {
     "name": "stdout",
     "output_type": "stream",
     "text": [
      "enter n = 3\n",
      "enter name = Iphone\n",
      "enter price = 15000\n",
      "enter quantity = 2\n",
      "enter name = Ipad\n",
      "enter price = 30000\n",
      "enter quantity = 2\n",
      "enter name = Mouse\n",
      "enter price = 1500\n",
      "enter quantity = 1\n"
     ]
    }
   ],
   "source": [
    "bill = \"\" \n",
    "n = int(input('enter n = '))\n",
    "for i in range(n):\n",
    "    name = input('enter name = ')\n",
    "    price = int(input('enter price = '))\n",
    "    quantity = int(input('enter quantity = '))\n",
    "    total = price*quantity\n",
    "    bill = bill +f\"{name},{price},{quantity},{total}\\n\"\n",
    "    \n",
    "file = open('datas.csv','w')\n",
    "file.write('Name,Price,Quantity,Total\\n')\n",
    "file.write(bill)\n",
    "file.close()"
   ]
  },
  {
   "cell_type": "code",
   "execution_count": 23,
   "id": "8dfb5807",
   "metadata": {},
   "outputs": [
    {
     "name": "stdout",
     "output_type": "stream",
     "text": [
      "Name,Price,Quantity,Total\n",
      "Iphone,15000,2,30000\n",
      "Ipad,30000,2,60000\n",
      "Mouse,1500,1,1500\n",
      "\n"
     ]
    }
   ],
   "source": [
    "file = open('datas.csv','r')\n",
    "x = file.read()\n",
    "print(x)\n",
    "file.close()"
   ]
  },
  {
   "cell_type": "code",
   "execution_count": null,
   "id": "b6b4ba0f",
   "metadata": {},
   "outputs": [],
   "source": []
  }
 ],
 "metadata": {
  "kernelspec": {
   "display_name": "Python 3 (ipykernel)",
   "language": "python",
   "name": "python3"
  },
  "language_info": {
   "codemirror_mode": {
    "name": "ipython",
    "version": 3
   },
   "file_extension": ".py",
   "mimetype": "text/x-python",
   "name": "python",
   "nbconvert_exporter": "python",
   "pygments_lexer": "ipython3",
   "version": "3.10.5"
  }
 },
 "nbformat": 4,
 "nbformat_minor": 5
}
