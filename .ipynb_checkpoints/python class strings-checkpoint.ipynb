{
 "cells": [
  {
   "cell_type": "code",
   "execution_count": 2,
   "id": "24cdd180",
   "metadata": {},
   "outputs": [],
   "source": [
    "#string"
   ]
  },
  {
   "cell_type": "code",
   "execution_count": 3,
   "id": "fb44a66a",
   "metadata": {},
   "outputs": [
    {
     "name": "stdout",
     "output_type": "stream",
     "text": [
      "<class 'str'>\n"
     ]
    }
   ],
   "source": [
    "a = 'python'\n",
    "b = \"python\"\n",
    "c = \"'python'\"\n",
    "print(type(a))"
   ]
  },
  {
   "cell_type": "code",
   "execution_count": null,
   "id": "c3e58a83",
   "metadata": {},
   "outputs": [],
   "source": [
    "a = int(input(\"enter a = \"))\n",
    "print(a)"
   ]
  },
  {
   "cell_type": "code",
   "execution_count": null,
   "id": "5b22a5a5",
   "metadata": {},
   "outputs": [],
   "source": [
    "a = (input(\"enter a = \")\n",
    "b = input(\"enter b = \")\n",
    "c = a+b\n",
    "print(c)"
   ]
  },
  {
   "cell_type": "code",
   "execution_count": null,
   "id": "a8d1cdd2",
   "metadata": {},
   "outputs": [],
   "source": [
    "#string fomatting\n",
    "name = \"ram\"\n",
    "age = 34\n",
    "add = \"kathmandu\"\n",
    "info = f\"Hello world I am {name}. I am from {add}. I am {age}\"\n",
    "print(info)"
   ]
  },
  {
   "cell_type": "code",
   "execution_count": 33,
   "id": "5fa1dce4",
   "metadata": {},
   "outputs": [
    {
     "name": "stdout",
     "output_type": "stream",
     "text": [
      "Enter n =  2\n",
      "Enter product name = coke\n",
      "Enter price = 60\n",
      "Enter quantity = 2\n",
      "Enter product name = momo\n",
      "Enter price = 160\n",
      "Enter quantity = 2\n",
      "(product)(price)(quantity)(total)/n(product)(price)(quantity)(total)/n\n"
     ]
    }
   ],
   "source": [
    "bill = \"\"\n",
    "n = int(input(\"Enter n =  \"))\n",
    "for i in range(n):\n",
    "    product = input(\"Enter product name = \")\n",
    "    price = int(input(\"Enter price = \"))\n",
    "    quantity = int(input(\"Enter quantity = \"))\n",
    "    total = price*quantity\n",
    "    info = f\"(product)(price)(quantity)(total)/n\"\n",
    "    bill = bill +info\n",
    "                             \n",
    "print(bill)\n",
    "                         "
   ]
  },
  {
   "cell_type": "code",
   "execution_count": 2,
   "id": "c7c26ba3",
   "metadata": {},
   "outputs": [
    {
     "name": "stdout",
     "output_type": "stream",
     "text": [
      " world I am python\n",
      "Hello\n"
     ]
    }
   ],
   "source": [
    "#slicing\n",
    "a=\"Hello world I am python\"\n",
    "b = a[0:5]\n",
    "c = a[5:]\n",
    "print(c)\n",
    "print(b)"
   ]
  },
  {
   "cell_type": "code",
   "execution_count": 6,
   "id": "1973db56",
   "metadata": {},
   "outputs": [
    {
     "data": {
      "text/plain": [
       "'python'"
      ]
     },
     "execution_count": 6,
     "metadata": {},
     "output_type": "execute_result"
    }
   ],
   "source": [
    "a = \"python\"\n",
    "a[:8]"
   ]
  },
  {
   "cell_type": "code",
   "execution_count": 7,
   "id": "023872f0",
   "metadata": {},
   "outputs": [
    {
     "data": {
      "text/plain": [
       "'ython'"
      ]
     },
     "execution_count": 7,
     "metadata": {},
     "output_type": "execute_result"
    }
   ],
   "source": [
    "a = \"python\"\n",
    "a[1:8]"
   ]
  },
  {
   "cell_type": "code",
   "execution_count": 9,
   "id": "2966d1b6",
   "metadata": {},
   "outputs": [
    {
     "data": {
      "text/plain": [
       "'thon'"
      ]
     },
     "execution_count": 9,
     "metadata": {},
     "output_type": "execute_result"
    }
   ],
   "source": [
    "a = \"python\"\n",
    "a[2:]"
   ]
  },
  {
   "cell_type": "code",
   "execution_count": 11,
   "id": "69ff0ab4",
   "metadata": {},
   "outputs": [
    {
     "data": {
      "text/plain": [
       "'HlowrdIa y'"
      ]
     },
     "execution_count": 11,
     "metadata": {},
     "output_type": "execute_result"
    }
   ],
   "source": [
    "a = \"Hello world I am python\"\n",
    "a[0:20:2]\n"
   ]
  },
  {
   "cell_type": "code",
   "execution_count": 13,
   "id": "57698ccf",
   "metadata": {},
   "outputs": [
    {
     "data": {
      "text/plain": [
       "'nohtyp ma I dlrow olleH'"
      ]
     },
     "execution_count": 13,
     "metadata": {},
     "output_type": "execute_result"
    }
   ],
   "source": [
    "a = \"Hello world I am python\"\n",
    "a[::-1]\n"
   ]
  },
  {
   "cell_type": "code",
   "execution_count": 15,
   "id": "10f6ab78",
   "metadata": {},
   "outputs": [
    {
     "name": "stdout",
     "output_type": "stream",
     "text": [
      "enter search = ram\n",
      "yes\n",
      "2\n"
     ]
    }
   ],
   "source": [
    "#search\n",
    "a = \"ram shyam hari sita gita sabin ram\"\n",
    "search = input(\"enter search = \")\n",
    "if search in a:\n",
    "    print(\"yes\")\n",
    "    print(a.count(search))"
   ]
  },
  {
   "cell_type": "code",
   "execution_count": 16,
   "id": "826fb9f8",
   "metadata": {},
   "outputs": [
    {
     "name": "stdout",
     "output_type": "stream",
     "text": [
      "enter search = gita\n",
      "yes\n",
      "1\n"
     ]
    }
   ],
   "source": [
    "#search\n",
    "a = \"ram shyam hari sita gita sabin ram\"\n",
    "search = input(\"enter search = \")\n",
    "if search in a:\n",
    "    print(\"yes\")\n",
    "    print(a.count(search))\n"
   ]
  },
  {
   "cell_type": "code",
   "execution_count": 17,
   "id": "a3d900c1",
   "metadata": {},
   "outputs": [
    {
     "name": "stdout",
     "output_type": "stream",
     "text": [
      "enter search = s\n",
      "yes\n",
      "3\n"
     ]
    }
   ],
   "source": [
    "#search\n",
    "a = \"ram shyam hari sita gita sabin ram\"\n",
    "search = input(\"enter search = \")\n",
    "if search in a:\n",
    "    print(\"yes\")\n"
   ]
  },
  {
   "cell_type": "code",
   "execution_count": 20,
   "id": "619f37b3",
   "metadata": {},
   "outputs": [
    {
     "name": "stdout",
     "output_type": "stream",
     "text": [
      "RAM SHYAM HARI SITA GITA SABIN RAM\n",
      "ram shyam hari sita gita sabin ram\n"
     ]
    }
   ],
   "source": [
    "a = \"ram shyam hari sita gita sabin ram\"\n",
    "print(a.upper())\n",
    "print(a.lower())"
   ]
  },
  {
   "cell_type": "code",
   "execution_count": 25,
   "id": "28a279f8",
   "metadata": {},
   "outputs": [
    {
     "name": "stdout",
     "output_type": "stream",
     "text": [
      "enter search = RAM\n",
      "Yes\n",
      "2\n"
     ]
    }
   ],
   "source": [
    "a = \"ram shyam hari sita gita sabin ram\".upper()\n",
    "search = input(\"enter search = \")\n",
    "if search in a:\n",
    "    print(\"Yes\")\n",
    "    print(a.count(search))"
   ]
  },
  {
   "cell_type": "code",
   "execution_count": 26,
   "id": "c6f09cb1",
   "metadata": {},
   "outputs": [
    {
     "name": "stdout",
     "output_type": "stream",
     "text": [
      "ram shyam hari sita gita sabin ram\n",
      "Ram shyam hari sita gita sabin Ram\n"
     ]
    }
   ],
   "source": [
    "a = \"ram shyam hari sita gita sabin ram\"\n",
    "b = a.replace(\"ram\",\"Ram\")\n",
    "print(a)\n",
    "print(b)"
   ]
  },
  {
   "cell_type": "code",
   "execution_count": 27,
   "id": "6c33b0ff",
   "metadata": {},
   "outputs": [
    {
     "name": "stdout",
     "output_type": "stream",
     "text": [
      "ram shyam hari sita gita sabin ram\n",
      " shyam hari sita gita sabin \n"
     ]
    }
   ],
   "source": [
    "a = \"ram shyam hari sita gita sabin ram\"\n",
    "b = a.replace(\"ram\",\"\")\n",
    "print(a)\n",
    "print(b)"
   ]
  },
  {
   "cell_type": "code",
   "execution_count": 28,
   "id": "31a563d3",
   "metadata": {},
   "outputs": [
    {
     "name": "stdout",
     "output_type": "stream",
     "text": [
      "Ram shyam hari sita gita sabin Ram\n"
     ]
    }
   ],
   "source": [
    "a = \"ram shyam hari sita gita sabin ram\"\n",
    "b = a.replace(\"ram\",\"Ram\")\n",
    "print(b)"
   ]
  },
  {
   "cell_type": "code",
   "execution_count": 29,
   "id": "8c89b906",
   "metadata": {},
   "outputs": [
    {
     "data": {
      "text/plain": [
       "['ram', 'shyam', 'hari', 'sita', 'gita', 'sabin', 'ram']"
      ]
     },
     "execution_count": 29,
     "metadata": {},
     "output_type": "execute_result"
    }
   ],
   "source": [
    "a = \"ram shyam hari sita gita sabin ram\"\n",
    "a.split()"
   ]
  },
  {
   "cell_type": "code",
   "execution_count": 30,
   "id": "7baff989",
   "metadata": {},
   "outputs": [
    {
     "data": {
      "text/plain": [
       "'rajan shyam hari sita gita sabin rajan'"
      ]
     },
     "execution_count": 30,
     "metadata": {},
     "output_type": "execute_result"
    }
   ],
   "source": [
    "a = \"ram shyam hari sita gita sabin ram\"\n",
    "a.replace(\"ram\",\"rajan\")"
   ]
  },
  {
   "cell_type": "code",
   "execution_count": 31,
   "id": "478740dc",
   "metadata": {},
   "outputs": [
    {
     "data": {
      "text/plain": [
       "'Ram Shyam Hari Sita Gita Sabin Ram'"
      ]
     },
     "execution_count": 31,
     "metadata": {},
     "output_type": "execute_result"
    }
   ],
   "source": [
    "a = \"ram shyam hari sita gita sabin ram\"\n",
    "a.title()"
   ]
  },
  {
   "cell_type": "code",
   "execution_count": null,
   "id": "9f0441ec",
   "metadata": {},
   "outputs": [],
   "source": []
  }
 ],
 "metadata": {
  "kernelspec": {
   "display_name": "Python 3 (ipykernel)",
   "language": "python",
   "name": "python3"
  },
  "language_info": {
   "codemirror_mode": {
    "name": "ipython",
    "version": 3
   },
   "file_extension": ".py",
   "mimetype": "text/x-python",
   "name": "python",
   "nbconvert_exporter": "python",
   "pygments_lexer": "ipython3",
   "version": "3.10.5"
  }
 },
 "nbformat": 4,
 "nbformat_minor": 5
}
