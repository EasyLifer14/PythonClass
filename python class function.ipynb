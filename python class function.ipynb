{
 "cells": [
  {
   "cell_type": "code",
   "execution_count": null,
   "id": "0dc7350f",
   "metadata": {},
   "outputs": [],
   "source": [
    "#function\n",
    "#userdefined\n",
    "#pre-defined"
   ]
  },
  {
   "cell_type": "code",
   "execution_count": null,
   "id": "5ced6e3d",
   "metadata": {},
   "outputs": [],
   "source": [
    "# pre-defined\n",
    "#print()\n",
    "#type()\n",
    "#str() list() tuple() dict()"
   ]
  },
  {
   "cell_type": "code",
   "execution_count": null,
   "id": "4f8e7bf7",
   "metadata": {},
   "outputs": [],
   "source": [
    " "
   ]
  },
  {
   "cell_type": "code",
   "execution_count": null,
   "id": "8b1ff967",
   "metadata": {},
   "outputs": [],
   "source": []
  },
  {
   "cell_type": "code",
   "execution_count": null,
   "id": "9c472eb9",
   "metadata": {},
   "outputs": [],
   "source": []
  },
  {
   "cell_type": "code",
   "execution_count": null,
   "id": "8348bdb4",
   "metadata": {},
   "outputs": [],
   "source": []
  }
 ],
 "metadata": {
  "kernelspec": {
   "display_name": "Python 3 (ipykernel)",
   "language": "python",
   "name": "python3"
  },
  "language_info": {
   "codemirror_mode": {
    "name": "ipython",
    "version": 3
   },
   "file_extension": ".py",
   "mimetype": "text/x-python",
   "name": "python",
   "nbconvert_exporter": "python",
   "pygments_lexer": "ipython3",
   "version": "3.10.5"
  }
 },
 "nbformat": 4,
 "nbformat_minor": 5
}
